{
 "cells": [
  {
   "cell_type": "markdown",
   "id": "d4133663",
   "metadata": {},
   "source": [
    "# PyKoSpacing(띄어쓰기 자동 패키지)"
   ]
  },
  {
   "cell_type": "code",
   "execution_count": 34,
   "id": "5284a186",
   "metadata": {},
   "outputs": [],
   "source": [
    "# pip install git+https://github.com/haven-jeon/PyKoSpacing.git"
   ]
  },
  {
   "cell_type": "code",
   "execution_count": 2,
   "id": "42b10663",
   "metadata": {},
   "outputs": [
    {
     "name": "stdout",
     "output_type": "stream",
     "text": [
      "김철수는극중두인격의사나이이광수역을맡았다.철수는한국유일의태권도전승자를가리는결전의날을앞두고10년간함께훈련한사형인유연재(김광수분)를찾으러속세로내려온인물이다.\n"
     ]
    }
   ],
   "source": [
    "sent = '김철수는 극중 두 인격의 사나이 이광수 역을 맡았다. 철수는 한국 유일의 태권도 전승자를 가리는 결전의 날을 앞두고 10년간 함께 훈련한 사형인 유연재(김광수 분)를 찾으러 속세로 내려온 인물이다.'\n",
    "new_sent = sent.replace(\" \", '') # 띄어쓰기가 없는 문장 임의로 만들기\n",
    "print(new_sent)"
   ]
  },
  {
   "cell_type": "code",
   "execution_count": 3,
   "id": "c32e7c28",
   "metadata": {},
   "outputs": [
    {
     "name": "stdout",
     "output_type": "stream",
     "text": [
      "Metal device set to: Apple M2\n",
      "김철수는 극중 두 인격의 사나이 이광수 역을 맡았다. 철수는 한국 유일의 태권도 전승자를 가리는 결전의 날을 앞두고 10년간 함께 훈련한 사형인 유연재(김광수 분)를 찾으러 속세로 내려온 인물이다.\n",
      "김철수는 극중 두 인격의 사나이 이광수 역을 맡았다. 철수는 한국 유일의 태권도 전승자를 가리는 결전의 날을 앞두고 10년간 함께 훈련한 사형인 유연재(김광수 분)를 찾으러 속세로 내려온 인물이다.\n"
     ]
    }
   ],
   "source": [
    "from pykospacing import Spacing\n",
    "\n",
    "spacing = Spacing()\n",
    "kospacing_sent = spacing(new_sent) \n",
    "\n",
    "print(sent)\n",
    "print(kospacing_sent)"
   ]
  },
  {
   "cell_type": "markdown",
   "id": "632243c6",
   "metadata": {},
   "source": [
    "# Py-Hanspell(한글 맞춤법 검사)"
   ]
  },
  {
   "cell_type": "code",
   "execution_count": 4,
   "id": "63ac63cd",
   "metadata": {},
   "outputs": [],
   "source": [
    "# pip install git+https://github.com/ssut/py-hanspell.git\n",
    "'''\n",
    "2023/11/10 Fri 11:57 AM. 현재 bug가 있음. 관련 링크\n",
    "[https://github.com/ssut/py-hanspell/issues/43]\n",
    "이에 따라 패키지 폴더\n",
    "[/opt/homebrew/Caskroom/miniforge/base/envs/tensorflow-dev/lib/python3.8/site-packages/hanspell/spell_checker.py]\n",
    "항목에 아래의 PR\n",
    "https://github.com/ssut/py-hanspell/pull/42/files\n",
    "을 수동 수정함.\n",
    "'''"
   ]
  },
  {
   "cell_type": "code",
   "execution_count": 6,
   "id": "658c6c72",
   "metadata": {},
   "outputs": [
    {
     "name": "stdout",
     "output_type": "stream",
     "text": [
      "맞춤법 틀리면 왜 안돼? 쓰고 싶은 대로 쓰면 되지 \n"
     ]
    }
   ],
   "source": [
    "from hanspell import spell_checker\n",
    "\n",
    "sent = \"맞춤법 틀리면 외 않되? 쓰고싶은대로쓰면돼지 \"\n",
    "spelled_sent = spell_checker.check(sent)\n",
    "\n",
    "hanspell_sent = spelled_sent.checked\n",
    "print(hanspell_sent)"
   ]
  },
  {
   "cell_type": "code",
   "execution_count": 7,
   "id": "4cef4c3d",
   "metadata": {},
   "outputs": [
    {
     "name": "stdout",
     "output_type": "stream",
     "text": [
      "김철수는 극 중 두 인격의 사나이 이광수 역을 맡았다. 철수는 한국 유일의 태권도 전승자를 가리는 결전의 날을 앞두고 10년간 함께 훈련한 사형인 유연제(김광수 분)를 찾으러 속세로 내려온 인물이다.\n",
      "김철수는 극중 두 인격의 사나이 이광수 역을 맡았다. 철수는 한국 유일의 태권도 전승자를 가리는 결전의 날을 앞두고 10년간 함께 훈련한 사형인 유연재(김광수 분)를 찾으러 속세로 내려온 인물이다.\n"
     ]
    }
   ],
   "source": [
    "# 이 패키지는 띄어쓰기 또한 보정합니다. PyKoSpacing에 사용한 예제를 그대로 사용해봅시다.\n",
    "\n",
    "spelled_sent = spell_checker.check(new_sent)\n",
    "\n",
    "hanspell_sent = spelled_sent.checked\n",
    "print(hanspell_sent)\n",
    "print(kospacing_sent) # 앞서 사용한 kospacing 패키지에서 얻은 결과"
   ]
  },
  {
   "cell_type": "markdown",
   "id": "5a90ab59",
   "metadata": {},
   "source": [
    "# SOYNLP(단어 토크나이저)\n",
    "<br>\n",
    "\n",
    "\n",
    "기존 형태소 분석기는 신조어나 형태소 분석기에 등록되지 않은 단어의 경우 \n",
    "\n",
    "제대로 구분하지 못하는 단점이 있기 때문에\n",
    "\n",
    "soynlp는 이러한 단점을 해결하기 위해 \n",
    "\n",
    "단어의 앞, 뒤에 독립된 다른 단어들이 계속해서 등장하는 것을 파악하여 \n",
    "\n",
    "만약 그렇다면 한 단어로 파악하는 과정을 거쳐 작업을 진행한다.\n",
    "<br><br>\n",
    "\n",
    "soynlp는 기본적으로 학습에 기반한 토크나이저이고 학습을 진행 해 주어야 한다."
   ]
  },
  {
   "cell_type": "markdown",
   "id": "9f9ba1f9",
   "metadata": {},
   "source": [
    "## 1.신조어 문제"
   ]
  },
  {
   "cell_type": "code",
   "execution_count": 4,
   "id": "f36f01d0",
   "metadata": {},
   "outputs": [
    {
     "name": "stdout",
     "output_type": "stream",
     "text": [
      "['에이', '비식스', '이대', '휘', '1월', '최애', '돌', '기부', '요정']\n"
     ]
    }
   ],
   "source": [
    "'''\n",
    "에이비식스는 아이돌의 그룹이고, 이대휘는 에이비식스의 멤버이며, \n",
    "최애돌은 최고로 애정하는 캐릭터라는 뜻이지만 형태소 분석 결과에서는 전부 분리된 결과를 보여줌.\n",
    "'''\n",
    "from konlpy.tag import Okt\n",
    "tokenizer = Okt()\n",
    "print(tokenizer.morphs('에이비식스 이대휘 1월 최애돌 기부 요정'))"
   ]
  },
  {
   "cell_type": "markdown",
   "id": "ad08694e",
   "metadata": {},
   "source": [
    "## 2.학습하기"
   ]
  },
  {
   "cell_type": "code",
   "execution_count": 7,
   "id": "1760e382",
   "metadata": {},
   "outputs": [],
   "source": [
    "import urllib.request\n",
    "from soynlp import DoublespaceLineCorpus\n",
    "from soynlp.word import WordExtractor"
   ]
  },
  {
   "cell_type": "code",
   "execution_count": 8,
   "id": "6b4185c3",
   "metadata": {},
   "outputs": [
    {
     "data": {
      "text/plain": [
       "('2016-10-20.txt', <http.client.HTTPMessage at 0x112547d30>)"
      ]
     },
     "execution_count": 8,
     "metadata": {},
     "output_type": "execute_result"
    }
   ],
   "source": [
    "# urllib.request.urlretrieve(\"https://raw.githubusercontent.com/lovit/soynlp/master/tutorials/2016-10-20.txt\", \n",
    "#                            filename=\"2016-10-20.txt\")"
   ]
  },
  {
   "cell_type": "code",
   "execution_count": 9,
   "id": "9c21eb49",
   "metadata": {},
   "outputs": [
    {
     "data": {
      "text/plain": [
       "30091"
      ]
     },
     "execution_count": 9,
     "metadata": {},
     "output_type": "execute_result"
    }
   ],
   "source": [
    "# 말 뭉치 -> 문서 단위로 분리 + 다수의 문서로 분리\n",
    "# 문서 단위 말뭉치 생성\n",
    "\"\"\"\n",
    "DoublespaceLineCorpus는 soyNLP에서 제공하는 Corpus 중 하나입니다. 이 Corpus는 한 줄씩 띄어쓰기가 두 번 들어간 텍스트 파일을 처리하기 위한 클래스입니다.\n",
    "\n",
    "보통 한 줄씩 띄어쓰기가 두 번 들어간 텍스트 파일은 예를 들어 한국어 위키피디아 덤프 파일 등에서 볼 수 있습니다. 이러한 파일을 읽어들이기 위해서는 일반적인 TextCorpus 클래스로는 제대로 처리하지 못하는 경우가 있습니다.\n",
    "\n",
    "하지만 DoublespaceLineCorpus는 이러한 파일을 제대로 처리할 수 있도록 구현된 클래스입니다. 이 클래스는 각 줄마다 띄어쓰기를 제거하고, 빈 줄은 건너뛰어 처리합니다. 또한, 파일의 각 줄을 generator 형태로 반환하여 메모리 사용량을 줄이면서 파일을 처리할 수 있도록 구현되어 있습니다.\n",
    "\n",
    "\n",
    "\n",
    "예를 들어, 아래와 같은 텍스트 파일이 있다고 가정해봅시다.\n",
    "\n",
    "Copy code\n",
    "첫 번째 줄의 내용\n",
    "\n",
    "두 번째 줄의 내용\n",
    "\n",
    "\n",
    "세 번째 줄의 내용\n",
    "위 파일을 DoublespaceLineCorpus로 읽어들이면, 아래와 같은 generator가 반환됩니다.\n",
    "\n",
    "python\n",
    "Copy code\n",
    "['첫 번째 줄의 내용', '두 번째 줄의 내용', '세 번째 줄의 내용']\n",
    "\n",
    "출처 : https://velog.io/@jaeha0725/soynlp\n",
    "\"\"\"\n",
    "corpus = DoublespaceLineCorpus(\"./data/soynlp/2016-10-20.txt\")\n",
    "len(corpus)"
   ]
  },
  {
   "cell_type": "code",
   "execution_count": 16,
   "id": "78c7de15",
   "metadata": {},
   "outputs": [
    {
     "name": "stdout",
     "output_type": "stream",
     "text": [
      "19  1990  52 1 22\n",
      "오패산터널 총격전 용의자 검거 서울 연합뉴스 경찰 관계자들이 19일 오후 서울 강북구 오패산 터널 인근에서 사제 총기를 발사해 경찰을 살해한 용의자 성모씨를 검거하고 있다 성씨는 검거 당시 서바이벌 게임에서 쓰는 방탄조끼에 헬멧까지 착용한 상태였다 독자제공 영상 캡처 연합뉴스  서울 연합뉴스 김은경 기자 사제 총기로 경찰을 살해한 범인 성모 46 씨는 주도면밀했다  경찰에 따르면 성씨는 19일 오후 강북경찰서 인근 부동산 업소 밖에서 부동산업자 이모 67 씨가 나오기를 기다렸다 이씨와는 평소에도 말다툼을 자주 한 것으로 알려졌다  이씨가 나와 걷기 시작하자 성씨는 따라가면서 미리 준비해온 사제 총기를 이씨에게 발사했다 총알이 빗나가면서 이씨는 도망갔다 그 빗나간 총알은 지나가던 행인 71 씨의 배를 스쳤다  성씨는 강북서 인근 치킨집까지 이씨 뒤를 쫓으며 실랑이하다 쓰러뜨린 후 총기와 함께 가져온 망치로 이씨 머리를 때렸다  이 과정에서 오후 6시 20분께 강북구 번동 길 위에서 사람들이 싸우고 있다 총소리가 났다 는 등의 신고가 여러건 들어왔다  5분 후에 성씨의 전자발찌가 훼손됐다는 신고가 보호관찰소 시스템을 통해 들어왔다 성범죄자로 전자발찌를 차고 있던 성씨는 부엌칼로 직접 자신의 발찌를 끊었다  용의자 소지 사제총기 2정 서울 연합뉴스 임헌정 기자 서울 시내에서 폭행 용의자가 현장 조사를 벌이던 경찰관에게 사제총기를 발사해 경찰관이 숨졌다 19일 오후 6시28분 강북구 번동에서 둔기로 맞았다 는 폭행 피해 신고가 접수돼 현장에서 조사하던 강북경찰서 번동파출소 소속 김모 54 경위가 폭행 용의자 성모 45 씨가 쏜 사제총기에 맞고 쓰러진 뒤 병원에 옮겨졌으나 숨졌다 사진은 용의자가 소지한 사제총기  신고를 받고 번동파출소에서 김창호 54 경위 등 경찰들이 오후 6시 29분께 현장으로 출동했다 성씨는 그사이 부동산 앞에 놓아뒀던 가방을 챙겨 오패산 쪽으로 도망간 후였다  김 경위는 오패산 터널 입구 오른쪽의 급경사에서 성씨에게 접근하다가 오후 6시 33분께 풀숲에 숨은 성씨가 허공에 난사한 10여발의 총알 중 일부를 왼쪽 어깨 뒷부분에 맞고 쓰러졌다  김 경위는 구급차가 도착했을 때 이미 의식이 없었고 심폐소생술을 하며 병원으로 옮겨졌으나 총알이 폐를 훼손해 오후 7시 40분께 사망했다  김 경위는 외근용 조끼를 입고 있었으나 총알을 막기에는 역부족이었다  머리에 부상을 입은 이씨도 함께 병원으로 이송됐으나 생명에는 지장이 없는 것으로 알려졌다  성씨는 오패산 터널 밑쪽 숲에서 오후 6시 45분께 잡혔다  총격현장 수색하는 경찰들 서울 연합뉴스 이효석 기자 19일 오후 서울 강북구 오패산 터널 인근에서 경찰들이 폭행 용의자가 사제총기를 발사해 경찰관이 사망한 사건을 조사 하고 있다  총 때문에 쫓던 경관들과 민간인들이 몸을 숨겼는데 인근 신발가게 직원 이모씨가 다가가 성씨를 덮쳤고 이어 현장에 있던 다른 상인들과 경찰이 가세해 체포했다  성씨는 경찰에 붙잡힌 직후 나 자살하려고 한 거다 맞아 죽어도 괜찮다 고 말한 것으로 전해졌다  성씨 자신도 경찰이 발사한 공포탄 1발 실탄 3발 중 실탄 1발을 배에 맞았으나 방탄조끼를 입은 상태여서 부상하지는 않았다  경찰은 인근을 수색해 성씨가 만든 사제총 16정과 칼 7개를 압수했다 실제 폭발할지는 알 수 없는 요구르트병에 무언가를 채워두고 심지를 꽂은 사제 폭탄도 발견됐다  일부는 숲에서 발견됐고 일부는 성씨가 소지한 가방 안에 있었다\n",
      "테헤란 연합뉴스 강훈상 특파원 이용 승객수 기준 세계 최대 공항인 아랍에미리트 두바이국제공항은 19일 현지시간 이 공항을 이륙하는 모든 항공기의 탑승객은 삼성전자의 갤럭시노트7을 휴대하면 안 된다고 밝혔다  두바이국제공항은 여러 항공 관련 기구의 권고에 따라 안전성에 우려가 있는 스마트폰 갤럭시노트7을 휴대하고 비행기를 타면 안 된다 며 탑승 전 검색 중 발견되면 압수할 계획 이라고 발표했다  공항 측은 갤럭시노트7의 배터리가 폭발 우려가 제기된 만큼 이 제품을 갖고 공항 안으로 들어오지 말라고 이용객에 당부했다  이런 조치는 두바이국제공항 뿐 아니라 신공항인 두바이월드센터에도 적용된다  배터리 폭발문제로 회수된 갤럭시노트7 연합뉴스자료사진\n"
     ]
    }
   ],
   "source": [
    "# 상위 3개의 문서만 출력\n",
    "i = 0\n",
    "for document in corpus:\n",
    "  if len(document) > 0:\n",
    "    print(document)\n",
    "    i = i+1\n",
    "  if i == 3:\n",
    "    break"
   ]
  },
  {
   "cell_type": "code",
   "execution_count": 17,
   "id": "eb179b9d",
   "metadata": {},
   "outputs": [
    {
     "name": "stdout",
     "output_type": "stream",
     "text": [
      "training was done. used memory 0.998 Gb\n",
      "all cohesion probabilities was computed. # words = 223348\n",
      "all branching entropies was computed # words = 361598\n",
      "all accessor variety was computed # words = 361598\n"
     ]
    }
   ],
   "source": [
    "# 전체 코퍼스로부터 응집 확률과 브랜칭 엔트로피 단어 점수표를 만드는 과정\n",
    "# WordExtractor.extract()를 통해서 전체 코퍼스에 대해 단어 점수표를 계산\n",
    "word_extractor = WordExtractor()\n",
    "word_extractor.train(corpus)\n",
    "word_score_table = word_extractor.extract()"
   ]
  },
  {
   "cell_type": "markdown",
   "id": "d404eb73",
   "metadata": {},
   "source": [
    "### SOYNLP의 응집 확률(cohesion probability)\n",
    "<br>\n",
    "\n",
    "\n",
    "응집 확률은 내부 문자열이 얼마나 응집하여 자주 등장하는지에 판단하는 척도이다.\n",
    "\n",
    "내부 문자열을 만드는 과정에서 왼쪽부터 순서대로 문자열을 추가하면서 각 문자열이 주어졌을 시 다음 문자가 나올 확률을 계산한다.\n",
    "\n",
    "이 값을 높을수록 전체 코퍼스에서 문자열 시퀀스는 하나의 단어로 등장할 확률이 높다는 뜻이다.<br><br>\n",
    "\n",
    "$ cohesion(x) = (\\prod_{i=1}^{n-1} P(c_{1:i+1} \\mid c_{1:i})) ^\\frac{1}{n-1} $\n",
    "<br><br>\n",
    "\n",
    "\n",
    "\"디스플레이\"라는 단어의 스코어를 구하는 과정은 다음과 같다.\n",
    "\n",
    "- $ \\text{cohesion}(2) = P(\\text{디스} \\mid \\text{디}) $\n",
    "- $ \\text{cohesion}(3) = \\sqrt[2]{P(\\text{디스} \\mid \\text{디}) \\cdot P(\\text{디스플} \\mid \\text{디스})} $\n",
    "- $ \\text{cohesion}(4) = \\sqrt[3]{P(\\text{디스} \\mid \\text{디}) \\cdot P(\\text{디스플} \\mid \\text{디스}) \\cdot P(\\text{디스플레} \\mid \\text{디스플})} $\n",
    "- $ \\text{cohesion}(5) = \\sqrt[4]{P(\\text{디스} \\mid \\text{디}) \\cdot P(\\text{디스플} \\mid \\text{디스}) \\cdot P(\\text{디스플레} \\mid \\text{디스플}) \\cdot P(\\text{디스플레이} \\mid \\text{디스플레})} $\n"
   ]
  },
  {
   "cell_type": "code",
   "execution_count": 18,
   "id": "688b60c4",
   "metadata": {},
   "outputs": [
    {
     "data": {
      "text/plain": [
       "0.30995365234146033"
      ]
     },
     "execution_count": 18,
     "metadata": {},
     "output_type": "execute_result"
    }
   ],
   "source": [
    "# 코드로써 확인해보면 다음과 같다.\n",
    "word_score_table[\"디스플\"].cohesion_forward # 0.21245395148200436\n",
    "word_score_table[\"디스플레\"].cohesion_forward # 0.3556306966566586\n",
    "word_score_table[\"디스플레이\"].cohesion_forward # 0.45929564695810293\n",
    "\n",
    "# 같은 단어가 아닐시는 오히려 값이 떨어지는 현상을 보게 된다.\n",
    "word_score_table[\"디스플레이를\"].cohesion_forward # 0.30995365234146033"
   ]
  },
  {
   "cell_type": "markdown",
   "id": "4a04b17f",
   "metadata": {},
   "source": [
    "### SOYNLP의 브랜칭 엔트로피(Branching Entropy)\n",
    "<br>\n",
    "\n",
    "Branching Entropy는 확률 분포의 엔트로피값을 사용함으로써 주어진 문자열에서 얼마나 다음 문자가 \n",
    "\n",
    "등장할 수 있는지 판단할 수 있는 척도의 값이다.(다음에 나올 문자의 선택지가 많을수록 값이 커지게 된다.)"
   ]
  },
  {
   "cell_type": "code",
   "execution_count": 24,
   "id": "ebd9b663",
   "metadata": {},
   "outputs": [
    {
     "data": {
      "text/plain": [
       "3.1400392861792916"
      ]
     },
     "execution_count": 24,
     "metadata": {},
     "output_type": "execute_result"
    }
   ],
   "source": [
    "word_score_table[\"디스\"].right_branching_entropy # 1.6371694761537934\n",
    "\n",
    "# 값이 0으로 된 이유는 다음에 올 문자가 명확해졌기 때문이다.\n",
    "word_score_table[\"디스플\"].right_branching_entropy # -0.0\n",
    "word_score_table[\"디스플레\"].right_branching_entropy # -0.0\n",
    "\n",
    "# 값이 다시 올라간 이유는 문자 시퀀스 다음에는 조사나 다른 단어와 같은 다양한 경우가 있을 수 있기 떄문이다.\n",
    "word_score_table[\"디스플레이\"].right_branching_entropy # 3.1400392861792916"
   ]
  },
  {
   "cell_type": "markdown",
   "id": "d79db10b",
   "metadata": {},
   "source": [
    "### SOYNLP의 L tokenizer\n",
    "<br>\n",
    "\n",
    "한국어는 띄어쓰기 단위로 나눈 어절 토큰은 주로 L 토큰 + R 토큰의 형식을 가질 때가 많습니다. \n",
    "\n",
    "예를 들어서 '공원에'는 '공원 + 에'로 나눌 수 있겠지요. 또는 '공부하는'은 '공부 + 하는'으로 나눌 수도 있을 것입니다. \n",
    "\n",
    "L 토크나이저는 L 토큰 + R 토큰으로 나누되, 분리 기준을 점수가 가장 높은 L 토큰으로 찾아내는 원리를 가지고 있습니다."
   ]
  },
  {
   "cell_type": "code",
   "execution_count": 25,
   "id": "be60cc11",
   "metadata": {},
   "outputs": [
    {
     "data": {
      "text/plain": [
       "[('국제사회', '와'), ('우리', '의'), ('노력', '들로'), ('범죄', '를'), ('척결', '하자')]"
      ]
     },
     "execution_count": 25,
     "metadata": {},
     "output_type": "execute_result"
    }
   ],
   "source": [
    "from soynlp.tokenizer import LTokenizer\n",
    "\n",
    "scores = {word:score.cohesion_forward for word, score in word_score_table.items()}\n",
    "l_tokenizer = LTokenizer(scores=scores)\n",
    "l_tokenizer.tokenize(\"국제사회와 우리의 노력들로 범죄를 척결하자\", flatten=False)"
   ]
  },
  {
   "cell_type": "markdown",
   "id": "a17ed09a",
   "metadata": {},
   "source": [
    "### 최대 점수 토크나이저\n",
    "<br>\n",
    "\n",
    "최대 점수 토크나이저는 띄어쓰기가 되지 않는 문장에서 점수가 높은 글자 시퀀스를 순차적으로 찾아내는 토크나이저입니다. \n",
    "\n",
    "띄어쓰기가 되어 있지 않은 문장을 넣어서 점수를 통해 토큰화 된 결과를 보겠습니다."
   ]
  },
  {
   "cell_type": "code",
   "execution_count": 26,
   "id": "cb42d6f2",
   "metadata": {},
   "outputs": [
    {
     "data": {
      "text/plain": [
       "['국제사회', '와', '우리', '의', '노력', '들로', '범죄', '를', '척결', '하자']"
      ]
     },
     "execution_count": 26,
     "metadata": {},
     "output_type": "execute_result"
    }
   ],
   "source": [
    "from soynlp.tokenizer import MaxScoreTokenizer\n",
    "\n",
    "maxscore_tokenizer = MaxScoreTokenizer(scores=scores)\n",
    "maxscore_tokenizer.tokenize(\"국제사회와우리의노력들로범죄를척결하자\")"
   ]
  },
  {
   "cell_type": "markdown",
   "id": "0a5cf62a",
   "metadata": {},
   "source": [
    "### SOYNLP를 이용한 반복되는 문자 정제\n",
    "<br>\n",
    "\n",
    "SNS나 채팅의 경우 'ㅋㅋㅋ', 'ㅎㅎ' 같은 이모티콘의 경우 불필요하게 연속되는 경우가 많은데 반복되는 것을 하나로 정규화시켜줄 수 있다."
   ]
  },
  {
   "cell_type": "code",
   "execution_count": 27,
   "id": "5f3c25be",
   "metadata": {},
   "outputs": [
    {
     "name": "stdout",
     "output_type": "stream",
     "text": [
      "아ㅋㅋㅎㅎ\n",
      "아ㅋㅋㅎㅎㅎ\n",
      "아ㅋㅋㅠㅠㅠ\n",
      "아ㅋㅋㅎㅎ\n"
     ]
    }
   ],
   "source": [
    "from soynlp.normalizer import *\n",
    "\n",
    "print(emoticon_normalize('앜ㅋㅋㅋㅋㅋㅋㅎㅎㅎㅎㅎㅎㅎ', num_repeats=2))\n",
    "print(emoticon_normalize('앜ㅋㅋㅋㅋㅋㅋㅋㅋㅎㅎㅎ', num_repeats=2))\n",
    "print(emoticon_normalize('앜ㅋㅋㅋㅋㅋ큐ㅠㅠ', num_repeats=2))\n",
    "print(emoticon_normalize('앜ㅋㅋㅋㅋㅋㅋㅎㅎㅎㅎ', num_repeats=2))"
   ]
  },
  {
   "cell_type": "markdown",
   "id": "150a13b3",
   "metadata": {},
   "source": [
    "# Customized KoNLPy\n",
    "<br>\n",
    "\n",
    "영어는 띄어쓰기만해도 단어가 잘 분리되나 한국어는 경우가 다르다. \n",
    "\n",
    "형태소 분석기를 사용할 때 이러한 상황을 극복하기 위해 하나의 해결책으로써 \n",
    "\n",
    "형태소 분석기에 사용자 사전을 추가해 주는 경우가 있다."
   ]
  },
  {
   "cell_type": "code",
   "execution_count": 33,
   "id": "c4f57487",
   "metadata": {},
   "outputs": [],
   "source": [
    "# pip install customized_konlpy"
   ]
  },
  {
   "cell_type": "code",
   "execution_count": 29,
   "id": "5cbb7e24",
   "metadata": {},
   "outputs": [
    {
     "name": "stderr",
     "output_type": "stream",
     "text": [
      "/opt/homebrew/Caskroom/miniforge/base/envs/tensorflow-dev/lib/python3.8/site-packages/konlpy/tag/_okt.py:17: UserWarning: \"Twitter\" has changed to \"Okt\" since KoNLPy v0.4.5.\n",
      "  warn('\"Twitter\" has changed to \"Okt\" since KoNLPy v0.4.5.')\n"
     ]
    },
    {
     "data": {
      "text/plain": [
       "['동', '현이', '는', '오늘', '도', '학교', '에', '갑니다', '.']"
      ]
     },
     "execution_count": 29,
     "metadata": {},
     "output_type": "execute_result"
    }
   ],
   "source": [
    "from ckonlpy.tag import Twitter\n",
    "twitter = Twitter()\n",
    "twitter.morphs('동현이는 오늘도 학교에 갑니다.')"
   ]
  },
  {
   "cell_type": "code",
   "execution_count": 31,
   "id": "6ca666a1",
   "metadata": {},
   "outputs": [
    {
     "data": {
      "text/plain": [
       "['동현이', '는', '오늘', '도', '학교', '에', '갑니다', '.']"
      ]
     },
     "execution_count": 31,
     "metadata": {},
     "output_type": "execute_result"
    }
   ],
   "source": [
    "# 앞서 소개한 예시와 마찬가지로 '동현이'라는 단어가 '동', '현이'와 같이 분리됩니다. \n",
    "# 이때, 형태소 분석기 Twitter에 add_dictionary('단어', '품사')와 같은 형식으로 사전 추가를 해줄 수 있습니다.\n",
    "twitter.add_dictionary('동현이', 'Noun')\n",
    "\n",
    "twitter.morphs('동현이는 오늘도 학교에 갑니다.')"
   ]
  }
 ],
 "metadata": {
  "kernelspec": {
   "display_name": "Python 3 (ipykernel)",
   "language": "python",
   "name": "python3"
  },
  "language_info": {
   "codemirror_mode": {
    "name": "ipython",
    "version": 3
   },
   "file_extension": ".py",
   "mimetype": "text/x-python",
   "name": "python",
   "nbconvert_exporter": "python",
   "pygments_lexer": "ipython3",
   "version": "3.8.16"
  }
 },
 "nbformat": 4,
 "nbformat_minor": 5
}
