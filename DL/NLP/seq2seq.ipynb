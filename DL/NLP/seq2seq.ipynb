{
 "cells": [
  {
   "cell_type": "markdown",
   "metadata": {
    "id": "N7dK9WAqFJ3L"
   },
   "source": [
    "# seq2seq 모델"
   ]
  },
  {
   "cell_type": "code",
   "execution_count": 44,
   "metadata": {
    "executionInfo": {
     "elapsed": 9,
     "status": "ok",
     "timestamp": 1648082686143,
     "user": {
      "displayName": "Jungi Kim",
      "photoUrl": "https://lh3.googleusercontent.com/a-/AOh14GiXo5s6ZHz3Kl3yMFyG1UmkGVl4Aa8w33ZzVWhe4w=s64",
      "userId": "13599710065611566056"
     },
     "user_tz": -540
    },
    "id": "M7ptfMOZDVog"
   },
   "outputs": [],
   "source": [
    "import pandas as pd\n",
    "from keras.utils import to_categorical, model_to_dot\n",
    "from keras.callbacks import EarlyStopping, ModelCheckpoint\n",
    "from keras.layers import Input, LSTM, Embedding, Dense\n",
    "from keras.models import Model\n",
    "import numpy as np\n",
    "\n",
    "from IPython.display import SVG\n",
    "from keras_preprocessing.sequence import pad_sequences"
   ]
  },
  {
   "cell_type": "markdown",
   "metadata": {
    "id": "WXnpdXCkFGJD"
   },
   "source": [
    "## 데이터 불러오기"
   ]
  },
  {
   "cell_type": "code",
   "execution_count": 45,
   "metadata": {
    "colab": {
     "base_uri": "https://localhost:8080/"
    },
    "executionInfo": {
     "elapsed": 540,
     "status": "ok",
     "timestamp": 1648082686677,
     "user": {
      "displayName": "Jungi Kim",
      "photoUrl": "https://lh3.googleusercontent.com/a-/AOh14GiXo5s6ZHz3Kl3yMFyG1UmkGVl4Aa8w33ZzVWhe4w=s64",
      "userId": "13599710065611566056"
     },
     "user_tz": -540
    },
    "id": "TzUROEQQABHz",
    "outputId": "0c03081d-949f-468a-c517-4c2b32ab8125"
   },
   "outputs": [
    {
     "name": "stdout",
     "output_type": "stream",
     "text": [
      "전체 샘플의 개수 : 3798\n"
     ]
    }
   ],
   "source": [
    "df = pd.read_csv('./data/kor-eng/kor.txt', names=['src', 'tar', 'lic'], sep='\\t')\n",
    "del df['lic']\n",
    "print('전체 샘플의 개수 :',len(df))"
   ]
  },
  {
   "cell_type": "code",
   "execution_count": 46,
   "metadata": {
    "colab": {
     "base_uri": "https://localhost:8080/",
     "height": 363
    },
    "executionInfo": {
     "elapsed": 29,
     "status": "ok",
     "timestamp": 1648082686678,
     "user": {
      "displayName": "Jungi Kim",
      "photoUrl": "https://lh3.googleusercontent.com/a-/AOh14GiXo5s6ZHz3Kl3yMFyG1UmkGVl4Aa8w33ZzVWhe4w=s64",
      "userId": "13599710065611566056"
     },
     "user_tz": -540
    },
    "id": "m48KLzzJEG7L",
    "outputId": "49fffdef-67a7-4040-e7be-814390774583"
   },
   "outputs": [
    {
     "data": {
      "text/html": [
       "<div>\n",
       "<style scoped>\n",
       "    .dataframe tbody tr th:only-of-type {\n",
       "        vertical-align: middle;\n",
       "    }\n",
       "\n",
       "    .dataframe tbody tr th {\n",
       "        vertical-align: top;\n",
       "    }\n",
       "\n",
       "    .dataframe thead th {\n",
       "        text-align: right;\n",
       "    }\n",
       "</style>\n",
       "<table border=\"1\" class=\"dataframe\">\n",
       "  <thead>\n",
       "    <tr style=\"text-align: right;\">\n",
       "      <th></th>\n",
       "      <th>src</th>\n",
       "      <th>tar</th>\n",
       "    </tr>\n",
       "  </thead>\n",
       "  <tbody>\n",
       "    <tr>\n",
       "      <th>2459</th>\n",
       "      <td>What are you two arguing about?</td>\n",
       "      <td>너희 둘 무엇에 관하여 논쟁하고 있니?</td>\n",
       "    </tr>\n",
       "    <tr>\n",
       "      <th>585</th>\n",
       "      <td>It's not funny.</td>\n",
       "      <td>안 재밌어.</td>\n",
       "    </tr>\n",
       "    <tr>\n",
       "      <th>28</th>\n",
       "      <td>I know.</td>\n",
       "      <td>알아.</td>\n",
       "    </tr>\n",
       "    <tr>\n",
       "      <th>2972</th>\n",
       "      <td>He's not going to visit you tomorrow.</td>\n",
       "      <td>그 사람은 내일 너를 보러 가지 않을 거야.</td>\n",
       "    </tr>\n",
       "    <tr>\n",
       "      <th>744</th>\n",
       "      <td>I'm your teacher.</td>\n",
       "      <td>난 네 선생이다.</td>\n",
       "    </tr>\n",
       "    <tr>\n",
       "      <th>3429</th>\n",
       "      <td>Does anybody here know how this thing works?</td>\n",
       "      <td>이걸 어떻게 하는지 아는 사람?</td>\n",
       "    </tr>\n",
       "    <tr>\n",
       "      <th>670</th>\n",
       "      <td>Keep the change.</td>\n",
       "      <td>잔돈은 가지세요.</td>\n",
       "    </tr>\n",
       "    <tr>\n",
       "      <th>1809</th>\n",
       "      <td>Why are you still working?</td>\n",
       "      <td>왜 아직도 일하고 있어?</td>\n",
       "    </tr>\n",
       "    <tr>\n",
       "      <th>3146</th>\n",
       "      <td>I wonder if Tom noticed the difference.</td>\n",
       "      <td>톰이 다른 점을 눈치챘는지 의문스러워.</td>\n",
       "    </tr>\n",
       "    <tr>\n",
       "      <th>2874</th>\n",
       "      <td>Tom is in his mid-to-late thirties.</td>\n",
       "      <td>톰은 삼십대 중반이야.</td>\n",
       "    </tr>\n",
       "  </tbody>\n",
       "</table>\n",
       "</div>"
      ],
      "text/plain": [
       "                                               src                       tar\n",
       "2459               What are you two arguing about?     너희 둘 무엇에 관하여 논쟁하고 있니?\n",
       "585                                It's not funny.                    안 재밌어.\n",
       "28                                         I know.                       알아.\n",
       "2972         He's not going to visit you tomorrow.  그 사람은 내일 너를 보러 가지 않을 거야.\n",
       "744                              I'm your teacher.                 난 네 선생이다.\n",
       "3429  Does anybody here know how this thing works?         이걸 어떻게 하는지 아는 사람?\n",
       "670                               Keep the change.                 잔돈은 가지세요.\n",
       "1809                    Why are you still working?             왜 아직도 일하고 있어?\n",
       "3146       I wonder if Tom noticed the difference.     톰이 다른 점을 눈치챘는지 의문스러워.\n",
       "2874           Tom is in his mid-to-late thirties.              톰은 삼십대 중반이야."
      ]
     },
     "execution_count": 46,
     "metadata": {},
     "output_type": "execute_result"
    }
   ],
   "source": [
    "df = df[0:60000] # 6만개만 저장\n",
    "df.sample(10)"
   ]
  },
  {
   "cell_type": "code",
   "execution_count": 47,
   "metadata": {
    "colab": {
     "base_uri": "https://localhost:8080/",
     "height": 363
    },
    "executionInfo": {
     "elapsed": 24,
     "status": "ok",
     "timestamp": 1648082686680,
     "user": {
      "displayName": "Jungi Kim",
      "photoUrl": "https://lh3.googleusercontent.com/a-/AOh14GiXo5s6ZHz3Kl3yMFyG1UmkGVl4Aa8w33ZzVWhe4w=s64",
      "userId": "13599710065611566056"
     },
     "user_tz": -540
    },
    "id": "Y6iXivSHc9s1",
    "outputId": "6596ac42-31b5-4277-821d-01feaaee6174"
   },
   "outputs": [
    {
     "data": {
      "text/html": [
       "<div>\n",
       "<style scoped>\n",
       "    .dataframe tbody tr th:only-of-type {\n",
       "        vertical-align: middle;\n",
       "    }\n",
       "\n",
       "    .dataframe tbody tr th {\n",
       "        vertical-align: top;\n",
       "    }\n",
       "\n",
       "    .dataframe thead th {\n",
       "        text-align: right;\n",
       "    }\n",
       "</style>\n",
       "<table border=\"1\" class=\"dataframe\">\n",
       "  <thead>\n",
       "    <tr style=\"text-align: right;\">\n",
       "      <th></th>\n",
       "      <th>src</th>\n",
       "      <th>tar</th>\n",
       "    </tr>\n",
       "  </thead>\n",
       "  <tbody>\n",
       "    <tr>\n",
       "      <th>0</th>\n",
       "      <td>Go.</td>\n",
       "      <td>가.</td>\n",
       "    </tr>\n",
       "    <tr>\n",
       "      <th>1</th>\n",
       "      <td>Hi.</td>\n",
       "      <td>안녕.</td>\n",
       "    </tr>\n",
       "    <tr>\n",
       "      <th>2</th>\n",
       "      <td>Run!</td>\n",
       "      <td>뛰어!</td>\n",
       "    </tr>\n",
       "    <tr>\n",
       "      <th>3</th>\n",
       "      <td>Run.</td>\n",
       "      <td>뛰어.</td>\n",
       "    </tr>\n",
       "    <tr>\n",
       "      <th>4</th>\n",
       "      <td>Who?</td>\n",
       "      <td>누구?</td>\n",
       "    </tr>\n",
       "    <tr>\n",
       "      <th>5</th>\n",
       "      <td>Wow!</td>\n",
       "      <td>우와!</td>\n",
       "    </tr>\n",
       "    <tr>\n",
       "      <th>6</th>\n",
       "      <td>Fire!</td>\n",
       "      <td>쏴!</td>\n",
       "    </tr>\n",
       "    <tr>\n",
       "      <th>7</th>\n",
       "      <td>Help!</td>\n",
       "      <td>도와줘!</td>\n",
       "    </tr>\n",
       "    <tr>\n",
       "      <th>8</th>\n",
       "      <td>Jump!</td>\n",
       "      <td>점프!</td>\n",
       "    </tr>\n",
       "    <tr>\n",
       "      <th>9</th>\n",
       "      <td>Jump.</td>\n",
       "      <td>점프해.</td>\n",
       "    </tr>\n",
       "  </tbody>\n",
       "</table>\n",
       "</div>"
      ],
      "text/plain": [
       "     src   tar\n",
       "0    Go.    가.\n",
       "1    Hi.   안녕.\n",
       "2   Run!   뛰어!\n",
       "3   Run.   뛰어.\n",
       "4   Who?   누구?\n",
       "5   Wow!   우와!\n",
       "6  Fire!    쏴!\n",
       "7  Help!  도와줘!\n",
       "8  Jump!   점프!\n",
       "9  Jump.  점프해."
      ]
     },
     "execution_count": 47,
     "metadata": {},
     "output_type": "execute_result"
    }
   ],
   "source": [
    "df.head(10)"
   ]
  },
  {
   "cell_type": "code",
   "execution_count": 48,
   "metadata": {
    "colab": {
     "base_uri": "https://localhost:8080/",
     "height": 206
    },
    "executionInfo": {
     "elapsed": 639,
     "status": "ok",
     "timestamp": 1648082687298,
     "user": {
      "displayName": "Jungi Kim",
      "photoUrl": "https://lh3.googleusercontent.com/a-/AOh14GiXo5s6ZHz3Kl3yMFyG1UmkGVl4Aa8w33ZzVWhe4w=s64",
      "userId": "13599710065611566056"
     },
     "user_tz": -540
    },
    "id": "hftZ2hPSdGEV",
    "outputId": "957b04ae-1e06-4b0b-bed1-0a5616af4e07"
   },
   "outputs": [
    {
     "data": {
      "text/html": [
       "<div>\n",
       "<style scoped>\n",
       "    .dataframe tbody tr th:only-of-type {\n",
       "        vertical-align: middle;\n",
       "    }\n",
       "\n",
       "    .dataframe tbody tr th {\n",
       "        vertical-align: top;\n",
       "    }\n",
       "\n",
       "    .dataframe thead th {\n",
       "        text-align: right;\n",
       "    }\n",
       "</style>\n",
       "<table border=\"1\" class=\"dataframe\">\n",
       "  <thead>\n",
       "    <tr style=\"text-align: right;\">\n",
       "      <th></th>\n",
       "      <th>src</th>\n",
       "      <th>tar</th>\n",
       "    </tr>\n",
       "  </thead>\n",
       "  <tbody>\n",
       "    <tr>\n",
       "      <th>3793</th>\n",
       "      <td>Science fiction has undoubtedly been the inspi...</td>\n",
       "      <td>공상 과학 소설은 의심의 여지 없이 오늘날 존재하는 많은 기술에 영감을 주었어.</td>\n",
       "    </tr>\n",
       "    <tr>\n",
       "      <th>3794</th>\n",
       "      <td>I started a new blog. I'll do my best not to b...</td>\n",
       "      <td>난 블로그를 시작했어. 블로그를 초반에만 반짝 많이 하다가 관두는 사람처럼은 되지 ...</td>\n",
       "    </tr>\n",
       "    <tr>\n",
       "      <th>3795</th>\n",
       "      <td>I think it's a shame that some foreign languag...</td>\n",
       "      <td>몇몇 외국어 선생님이 한 번도 원어민과 공부해본 적도 없으면서 대학을 나올 수 있었...</td>\n",
       "    </tr>\n",
       "    <tr>\n",
       "      <th>3796</th>\n",
       "      <td>If someone who doesn't know your background sa...</td>\n",
       "      <td>만일 네 사정도 잘 모르는 사람이 원어민 같다고 말한다면 그건 그 사람이 네가 원어...</td>\n",
       "    </tr>\n",
       "    <tr>\n",
       "      <th>3797</th>\n",
       "      <td>Doubtless there exists in this world precisely...</td>\n",
       "      <td>의심의 여지 없이 세상에는 어떤 남자이든 정확히 딱 알맞는 여자와 결혼하거나 그 반...</td>\n",
       "    </tr>\n",
       "  </tbody>\n",
       "</table>\n",
       "</div>"
      ],
      "text/plain": [
       "                                                    src  \\\n",
       "3793  Science fiction has undoubtedly been the inspi...   \n",
       "3794  I started a new blog. I'll do my best not to b...   \n",
       "3795  I think it's a shame that some foreign languag...   \n",
       "3796  If someone who doesn't know your background sa...   \n",
       "3797  Doubtless there exists in this world precisely...   \n",
       "\n",
       "                                                    tar  \n",
       "3793       공상 과학 소설은 의심의 여지 없이 오늘날 존재하는 많은 기술에 영감을 주었어.  \n",
       "3794  난 블로그를 시작했어. 블로그를 초반에만 반짝 많이 하다가 관두는 사람처럼은 되지 ...  \n",
       "3795  몇몇 외국어 선생님이 한 번도 원어민과 공부해본 적도 없으면서 대학을 나올 수 있었...  \n",
       "3796  만일 네 사정도 잘 모르는 사람이 원어민 같다고 말한다면 그건 그 사람이 네가 원어...  \n",
       "3797  의심의 여지 없이 세상에는 어떤 남자이든 정확히 딱 알맞는 여자와 결혼하거나 그 반...  "
      ]
     },
     "execution_count": 48,
     "metadata": {},
     "output_type": "execute_result"
    }
   ],
   "source": [
    "df.tail()"
   ]
  },
  {
   "cell_type": "markdown",
   "metadata": {
    "id": "jnUtyPRzFQPx"
   },
   "source": [
    "## 데이터 전처리"
   ]
  },
  {
   "cell_type": "code",
   "execution_count": 49,
   "metadata": {
    "colab": {
     "base_uri": "https://localhost:8080/",
     "height": 363
    },
    "executionInfo": {
     "elapsed": 29,
     "status": "ok",
     "timestamp": 1648082687306,
     "user": {
      "displayName": "Jungi Kim",
      "photoUrl": "https://lh3.googleusercontent.com/a-/AOh14GiXo5s6ZHz3Kl3yMFyG1UmkGVl4Aa8w33ZzVWhe4w=s64",
      "userId": "13599710065611566056"
     },
     "user_tz": -540
    },
    "id": "ev7HHhv1ERSs",
    "outputId": "1d03d03c-4218-473a-f18e-f3dd99761bb9"
   },
   "outputs": [
    {
     "data": {
      "text/html": [
       "<div>\n",
       "<style scoped>\n",
       "    .dataframe tbody tr th:only-of-type {\n",
       "        vertical-align: middle;\n",
       "    }\n",
       "\n",
       "    .dataframe tbody tr th {\n",
       "        vertical-align: top;\n",
       "    }\n",
       "\n",
       "    .dataframe thead th {\n",
       "        text-align: right;\n",
       "    }\n",
       "</style>\n",
       "<table border=\"1\" class=\"dataframe\">\n",
       "  <thead>\n",
       "    <tr style=\"text-align: right;\">\n",
       "      <th></th>\n",
       "      <th>src</th>\n",
       "      <th>tar</th>\n",
       "    </tr>\n",
       "  </thead>\n",
       "  <tbody>\n",
       "    <tr>\n",
       "      <th>422</th>\n",
       "      <td>It's suicide.</td>\n",
       "      <td>\\t 자살입니다. \\n</td>\n",
       "    </tr>\n",
       "    <tr>\n",
       "      <th>726</th>\n",
       "      <td>Her hair is long.</td>\n",
       "      <td>\\t 그녀의 머리카락은 길다. \\n</td>\n",
       "    </tr>\n",
       "    <tr>\n",
       "      <th>1841</th>\n",
       "      <td>I didn't know who you were.</td>\n",
       "      <td>\\t 네가 누군지 난 몰랐어. \\n</td>\n",
       "    </tr>\n",
       "    <tr>\n",
       "      <th>3233</th>\n",
       "      <td>I wish I could go to the party with you.</td>\n",
       "      <td>\\t 너랑 같이 파티 갔으면 좋았을텐데 \\n</td>\n",
       "    </tr>\n",
       "    <tr>\n",
       "      <th>2998</th>\n",
       "      <td>I'm trying to help you keep your job.</td>\n",
       "      <td>\\t 나는 니가 일을 계속하게 도와주고 싶어. \\n</td>\n",
       "    </tr>\n",
       "    <tr>\n",
       "      <th>3721</th>\n",
       "      <td>If God did not exist, it would be necessary to...</td>\n",
       "      <td>\\t 만약 신이 존재하지 않았다면, 만들어 낼 필요가 있겠지. \\n</td>\n",
       "    </tr>\n",
       "    <tr>\n",
       "      <th>3186</th>\n",
       "      <td>What did you do after school yesterday?</td>\n",
       "      <td>\\t 너 어제 학교 끝나고 뭐했어? \\n</td>\n",
       "    </tr>\n",
       "    <tr>\n",
       "      <th>196</th>\n",
       "      <td>Be careful.</td>\n",
       "      <td>\\t 조심해! \\n</td>\n",
       "    </tr>\n",
       "    <tr>\n",
       "      <th>2176</th>\n",
       "      <td>Mary is wearing a silk dress.</td>\n",
       "      <td>\\t 메리는 비단으로 된 드레스를 입고 있어. \\n</td>\n",
       "    </tr>\n",
       "    <tr>\n",
       "      <th>2872</th>\n",
       "      <td>Tom is having a hard time focusing.</td>\n",
       "      <td>\\t 톰은 집중하려고 애를 쓰고 있어. \\n</td>\n",
       "    </tr>\n",
       "  </tbody>\n",
       "</table>\n",
       "</div>"
      ],
      "text/plain": [
       "                                                    src  \\\n",
       "422                                       It's suicide.   \n",
       "726                                   Her hair is long.   \n",
       "1841                        I didn't know who you were.   \n",
       "3233           I wish I could go to the party with you.   \n",
       "2998              I'm trying to help you keep your job.   \n",
       "3721  If God did not exist, it would be necessary to...   \n",
       "3186            What did you do after school yesterday?   \n",
       "196                                         Be careful.   \n",
       "2176                      Mary is wearing a silk dress.   \n",
       "2872                Tom is having a hard time focusing.   \n",
       "\n",
       "                                        tar  \n",
       "422                            \\t 자살입니다. \\n  \n",
       "726                     \\t 그녀의 머리카락은 길다. \\n  \n",
       "1841                    \\t 네가 누군지 난 몰랐어. \\n  \n",
       "3233               \\t 너랑 같이 파티 갔으면 좋았을텐데 \\n  \n",
       "2998           \\t 나는 니가 일을 계속하게 도와주고 싶어. \\n  \n",
       "3721  \\t 만약 신이 존재하지 않았다면, 만들어 낼 필요가 있겠지. \\n  \n",
       "3186                 \\t 너 어제 학교 끝나고 뭐했어? \\n  \n",
       "196                              \\t 조심해! \\n  \n",
       "2176           \\t 메리는 비단으로 된 드레스를 입고 있어. \\n  \n",
       "2872               \\t 톰은 집중하려고 애를 쓰고 있어. \\n  "
      ]
     },
     "execution_count": 49,
     "metadata": {},
     "output_type": "execute_result"
    }
   ],
   "source": [
    "'''\n",
    "시작을 의미하는 심볼 '\\t'\n",
    "종료를 의미하는 심볼 '\\n'\n",
    "'''\n",
    "df.tar = df.tar.apply(lambda x : '\\t '+ x + ' \\n')\n",
    "df.sample(10)"
   ]
  },
  {
   "cell_type": "code",
   "execution_count": 50,
   "metadata": {
    "executionInfo": {
     "elapsed": 29,
     "status": "ok",
     "timestamp": 1648082687308,
     "user": {
      "displayName": "Jungi Kim",
      "photoUrl": "https://lh3.googleusercontent.com/a-/AOh14GiXo5s6ZHz3Kl3yMFyG1UmkGVl4Aa8w33ZzVWhe4w=s64",
      "userId": "13599710065611566056"
     },
     "user_tz": -540
    },
    "id": "pKBoDNjiFcBk"
   },
   "outputs": [],
   "source": [
    "# 문자 집합 구축\n",
    "src_vocab = set()\n",
    "for line in df.src: # 1줄씩 읽음\n",
    "    for char in line: # 1개의 문자씩 읽음\n",
    "        src_vocab.add(char)\n",
    "\n",
    "tar_vocab = set()\n",
    "for line in df.tar:\n",
    "    for char in line:\n",
    "        tar_vocab.add(char)"
   ]
  },
  {
   "cell_type": "code",
   "execution_count": 51,
   "metadata": {
    "colab": {
     "base_uri": "https://localhost:8080/"
    },
    "executionInfo": {
     "elapsed": 30,
     "status": "ok",
     "timestamp": 1648082687310,
     "user": {
      "displayName": "Jungi Kim",
      "photoUrl": "https://lh3.googleusercontent.com/a-/AOh14GiXo5s6ZHz3Kl3yMFyG1UmkGVl4Aa8w33ZzVWhe4w=s64",
      "userId": "13599710065611566056"
     },
     "user_tz": -540
    },
    "id": "spLopNlOFdff",
    "outputId": "30db8d26-4409-4fff-dcc7-b53996071c89"
   },
   "outputs": [
    {
     "name": "stdout",
     "output_type": "stream",
     "text": [
      "source 문장의 char 집합 : 74\n",
      "target 문장의 char 집합 : 917\n"
     ]
    }
   ],
   "source": [
    "src_vocab_size = len(src_vocab)\n",
    "tar_vocab_size = len(tar_vocab)\n",
    "print('source 문장의 char 집합 :',src_vocab_size)\n",
    "print('target 문장의 char 집합 :',tar_vocab_size)"
   ]
  },
  {
   "cell_type": "code",
   "execution_count": 52,
   "metadata": {
    "colab": {
     "base_uri": "https://localhost:8080/"
    },
    "executionInfo": {
     "elapsed": 460,
     "status": "ok",
     "timestamp": 1648082687745,
     "user": {
      "displayName": "Jungi Kim",
      "photoUrl": "https://lh3.googleusercontent.com/a-/AOh14GiXo5s6ZHz3Kl3yMFyG1UmkGVl4Aa8w33ZzVWhe4w=s64",
      "userId": "13599710065611566056"
     },
     "user_tz": -540
    },
    "id": "8b1kBWeHF3LZ",
    "outputId": "58531105-1b0f-459c-ce0b-dd3a118096a8"
   },
   "outputs": [
    {
     "name": "stdout",
     "output_type": "stream",
     "text": [
      "[' ', '!', '\"', '$', '%', \"'\", ',', '-', '.', '0', '1', '2', '3', '4', '5', '6', '7', '8', '9', ':', ';', '?', 'A', 'B', 'C', 'D', 'E', 'F', 'G', 'H', 'I', 'J', 'K', 'L', 'M', 'N', 'O', 'P', 'Q', 'R', 'S', 'T', 'U', 'V', 'W', 'Y', 'a', 'b', 'c', 'd', 'e', 'f', 'g', 'h', 'i', 'j', 'k', 'l', 'm', 'n', 'o', 'p', 'q', 'r', 's', 't', 'u', 'v', 'w', 'x', 'y', 'z', '°', 'ï']\n",
      "['간', '갇', '갈', '감', '갑', '값', '갔', '강', '갖', '같', '개', '객', '갰', '걀', '걔', '거', '걱', '건', '걷', '걸', '검', '겁', '것', '게', '겐', '겠', '겨', '격', '겪', '견']\n"
     ]
    }
   ],
   "source": [
    "src_vocab = sorted(list(src_vocab))\n",
    "tar_vocab = sorted(list(tar_vocab))\n",
    "print(src_vocab)\n",
    "print(tar_vocab[45:75])"
   ]
  },
  {
   "cell_type": "code",
   "execution_count": 53,
   "metadata": {
    "colab": {
     "base_uri": "https://localhost:8080/"
    },
    "executionInfo": {
     "elapsed": 16,
     "status": "ok",
     "timestamp": 1648082687747,
     "user": {
      "displayName": "Jungi Kim",
      "photoUrl": "https://lh3.googleusercontent.com/a-/AOh14GiXo5s6ZHz3Kl3yMFyG1UmkGVl4Aa8w33ZzVWhe4w=s64",
      "userId": "13599710065611566056"
     },
     "user_tz": -540
    },
    "id": "kH774UJgGeBq",
    "outputId": "46998f58-4987-4ce0-c33d-bae6304a92bc"
   },
   "outputs": [
    {
     "name": "stdout",
     "output_type": "stream",
     "text": [
      "{' ': 1, '!': 2, '\"': 3, '$': 4, '%': 5, \"'\": 6, ',': 7, '-': 8, '.': 9, '0': 10, '1': 11, '2': 12, '3': 13, '4': 14, '5': 15, '6': 16, '7': 17, '8': 18, '9': 19, ':': 20, ';': 21, '?': 22, 'A': 23, 'B': 24, 'C': 25, 'D': 26, 'E': 27, 'F': 28, 'G': 29, 'H': 30, 'I': 31, 'J': 32, 'K': 33, 'L': 34, 'M': 35, 'N': 36, 'O': 37, 'P': 38, 'Q': 39, 'R': 40, 'S': 41, 'T': 42, 'U': 43, 'V': 44, 'W': 45, 'Y': 46, 'a': 47, 'b': 48, 'c': 49, 'd': 50, 'e': 51, 'f': 52, 'g': 53, 'h': 54, 'i': 55, 'j': 56, 'k': 57, 'l': 58, 'm': 59, 'n': 60, 'o': 61, 'p': 62, 'q': 63, 'r': 64, 's': 65, 't': 66, 'u': 67, 'v': 68, 'w': 69, 'x': 70, 'y': 71, 'z': 72, '°': 73, 'ï': 74}\n",
      "{'\\t': 1, '\\n': 2, ' ': 3, '!': 4, '\"': 5, '%': 6, '(': 7, ')': 8, ',': 9, '-': 10, '.': 11, '/': 12, '0': 13, '1': 14, '2': 15, '3': 16, '4': 17, '5': 18, '6': 19, '7': 20, '8': 21, '9': 22, ':': 23, '?': 24, 'A': 25, 'B': 26, 'C': 27, 'D': 28, 'H': 29, 'M': 30, 'N': 31, 'T': 32, 'a': 33, 'd': 34, 'h': 35, 'i': 36, 'm': 37, 'o': 38, 'p': 39, 'r': 40, 't': 41, 'y': 42, '°': 43, '가': 44, '각': 45, '간': 46, '갇': 47, '갈': 48, '감': 49, '갑': 50, '값': 51, '갔': 52, '강': 53, '갖': 54, '같': 55, '개': 56, '객': 57, '갰': 58, '걀': 59, '걔': 60, '거': 61, '걱': 62, '건': 63, '걷': 64, '걸': 65, '검': 66, '겁': 67, '것': 68, '게': 69, '겐': 70, '겠': 71, '겨': 72, '격': 73, '겪': 74, '견': 75, '결': 76, '겼': 77, '경': 78, '계': 79, '고': 80, '곡': 81, '곤': 82, '곧': 83, '골': 84, '곰': 85, '곱': 86, '곳': 87, '공': 88, '과': 89, '관': 90, '광': 91, '괜': 92, '괴': 93, '굉': 94, '교': 95, '구': 96, '국': 97, '군': 98, '굳': 99, '굴': 100, '굶': 101, '굼': 102, '굽': 103, '궁': 104, '권': 105, '귀': 106, '귄': 107, '규': 108, '그': 109, '극': 110, '근': 111, '글': 112, '금': 113, '급': 114, '긋': 115, '긍': 116, '기': 117, '긴': 118, '길': 119, '깁': 120, '깊': 121, '까': 122, '깎': 123, '깐': 124, '깔': 125, '깜': 126, '깡': 127, '깨': 128, '꺼': 129, '꺾': 130, '껍': 131, '껏': 132, '껐': 133, '께': 134, '껴': 135, '꼈': 136, '꼬': 137, '꼴': 138, '꼼': 139, '꽃': 140, '꽉': 141, '꽤': 142, '꾸': 143, '꾼': 144, '꿇': 145, '꿈': 146, '꿔': 147, '꿨': 148, '뀌': 149, '끄': 150, '끈': 151, '끊': 152, '끌': 153, '끓': 154, '끔': 155, '끗': 156, '끙': 157, '끝': 158, '끼': 159, '낀': 160, '낄': 161, '낌': 162, '나': 163, '낙': 164, '낚': 165, '난': 166, '날': 167, '낡': 168, '남': 169, '납': 170, '났': 171, '낭': 172, '낮': 173, '낯': 174, '내': 175, '낸': 176, '낼': 177, '냄': 178, '냈': 179, '냉': 180, '냐': 181, '냥': 182, '너': 183, '넌': 184, '널': 185, '넓': 186, '넘': 187, '넛': 188, '넣': 189, '네': 190, '넷': 191, '녀': 192, '녁': 193, '년': 194, '념': 195, '녕': 196, '노': 197, '녹': 198, '논': 199, '놀': 200, '농': 201, '높': 202, '놓': 203, '놔': 204, '놨': 205, '뇌': 206, '누': 207, '눅': 208, '눈': 209, '눴': 210, '뉴': 211, '늄': 212, '느': 213, '늑': 214, '는': 215, '늘': 216, '늙': 217, '능': 218, '늦': 219, '니': 220, '닌': 221, '님': 222, '다': 223, '닥': 224, '닦': 225, '단': 226, '닫': 227, '달': 228, '닮': 229, '담': 230, '답': 231, '당': 232, '대': 233, '댔': 234, '더': 235, '덕': 236, '던': 237, '덜': 238, '덤': 239, '덥': 240, '데': 241, '덴': 242, '도': 243, '독': 244, '돈': 245, '돌': 246, '돕': 247, '동': 248, '돼': 249, '됐': 250, '되': 251, '된': 252, '될': 253, '됩': 254, '두': 255, '둑': 256, '둔': 257, '둘': 258, '둠': 259, '둬': 260, '뒀': 261, '뒤': 262, '뒷': 263, '드': 264, '득': 265, '든': 266, '듣': 267, '들': 268, '듯': 269, '등': 270, '디': 271, '딘': 272, '딨': 273, '따': 274, '딱': 275, '딸': 276, '땅': 277, '땋': 278, '때': 279, '떠': 280, '떡': 281, '떤': 282, '떨': 283, '떴': 284, '떻': 285, '또': 286, '똑': 287, '뚱': 288, '뛰': 289, '뜨': 290, '뜰': 291, '뜻': 292, '라': 293, '락': 294, '란': 295, '랄': 296, '람': 297, '랍': 298, '랐': 299, '랑': 300, '래': 301, '랜': 302, '램': 303, '랩': 304, '랬': 305, '략': 306, '량': 307, '러': 308, '럭': 309, '런': 310, '럴': 311, '럼': 312, '럽': 313, '렀': 314, '렁': 315, '렇': 316, '레': 317, '렌': 318, '렛': 319, '려': 320, '력': 321, '련': 322, '렵': 323, '렸': 324, '령': 325, '례': 326, '로': 327, '록': 328, '론': 329, '롭': 330, '뢰': 331, '료': 332, '루': 333, '룹': 334, '류': 335, '륙': 336, '륜': 337, '륭': 338, '르': 339, '른': 340, '를': 341, '름': 342, '릅': 343, '릎': 344, '리': 345, '린': 346, '릴': 347, '림': 348, '립': 349, '마': 350, '막': 351, '만': 352, '많': 353, '말': 354, '맙': 355, '맛': 356, '망': 357, '맞': 358, '맡': 359, '매': 360, '맥': 361, '맨': 362, '맷': 363, '머': 364, '먹': 365, '먼': 366, '멀': 367, '멈': 368, '멋': 369, '멍': 370, '메': 371, '멕': 372, '멜': 373, '며': 374, '면': 375, '명': 376, '몇': 377, '모': 378, '목': 379, '몰': 380, '몸': 381, '못': 382, '몽': 383, '묘': 384, '무': 385, '묵': 386, '묶': 387, '문': 388, '묻': 389, '물': 390, '뭇': 391, '뭐': 392, '뭔': 393, '뭘': 394, '므': 395, '미': 396, '민': 397, '믿': 398, '밀': 399, '밌': 400, '밍': 401, '밑': 402, '바': 403, '박': 404, '밖': 405, '반': 406, '받': 407, '발': 408, '밝': 409, '밟': 410, '밤': 411, '밥': 412, '방': 413, '배': 414, '백': 415, '뱀': 416, '버': 417, '벅': 418, '번': 419, '벌': 420, '범': 421, '법': 422, '벗': 423, '벙': 424, '베': 425, '벼': 426, '벽': 427, '변': 428, '별': 429, '병': 430, '보': 431, '복': 432, '본': 433, '볼': 434, '봄': 435, '봅': 436, '봇': 437, '봉': 438, '봐': 439, '봤': 440, '부': 441, '북': 442, '분': 443, '불': 444, '붉': 445, '붐': 446, '붕': 447, '붙': 448, '브': 449, '블': 450, '비': 451, '빈': 452, '빌': 453, '빙': 454, '빛': 455, '빠': 456, '빨': 457, '빴': 458, '빵': 459, '빼': 460, '뺄': 461, '뻐': 462, '뻔': 463, '뻤': 464, '뽀': 465, '뽑': 466, '뿌': 467, '뿐': 468, '쁘': 469, '쁜': 470, '쁠': 471, '삐': 472, '사': 473, '삭': 474, '산': 475, '살': 476, '삶': 477, '삼': 478, '샀': 479, '상': 480, '새': 481, '색': 482, '샌': 483, '생': 484, '샤': 485, '샴': 486, '서': 487, '석': 488, '선': 489, '설': 490, '섬': 491, '섭': 492, '섯': 493, '섰': 494, '성': 495, '세': 496, '센': 497, '셀': 498, '셈': 499, '셔': 500, '셜': 501, '셨': 502, '소': 503, '속': 504, '손': 505, '솔': 506, '송': 507, '쇠': 508, '수': 509, '숙': 510, '순': 511, '숟': 512, '술': 513, '숨': 514, '쉬': 515, '쉽': 516, '슈': 517, '스': 518, '슨': 519, '슬': 520, '습': 521, '승': 522, '시': 523, '식': 524, '신': 525, '실': 526, '싫': 527, '심': 528, '십': 529, '싱': 530, '싶': 531, '싸': 532, '쌉': 533, '써': 534, '썩': 535, '썼': 536, '썽': 537, '쏘': 538, '쏠': 539, '쏴': 540, '쓰': 541, '쓱': 542, '쓴': 543, '쓸': 544, '씀': 545, '씨': 546, '씩': 547, '씬': 548, '씻': 549, '아': 550, '악': 551, '안': 552, '앉': 553, '않': 554, '알': 555, '앓': 556, '암': 557, '압': 558, '앗': 559, '았': 560, '앙': 561, '앞': 562, '애': 563, '액': 564, '앨': 565, '앵': 566, '야': 567, '약': 568, '얀': 569, '얇': 570, '양': 571, '얗': 572, '얘': 573, '어': 574, '억': 575, '언': 576, '얻': 577, '얼': 578, '엄': 579, '업': 580, '없': 581, '엇': 582, '었': 583, '엌': 584, '에': 585, '엔': 586, '엘': 587, '여': 588, '역': 589, '연': 590, '열': 591, '염': 592, '엽': 593, '였': 594, '영': 595, '옆': 596, '예': 597, '옛': 598, '오': 599, '옥': 600, '온': 601, '올': 602, '옮': 603, '옳': 604, '옷': 605, '옹': 606, '와': 607, '완': 608, '왔': 609, '왜': 610, '외': 611, '왼': 612, '요': 613, '욕': 614, '용': 615, '우': 616, '운': 617, '울': 618, '움': 619, '웃': 620, '워': 621, '원': 622, '월': 623, '웠': 624, '웨': 625, '위': 626, '윈': 627, '윗': 628, '윙': 629, '유': 630, '육': 631, '윤': 632, '으': 633, '은': 634, '을': 635, '음': 636, '읍': 637, '응': 638, '의': 639, '이': 640, '익': 641, '인': 642, '일': 643, '읽': 644, '잃': 645, '임': 646, '입': 647, '있': 648, '잊': 649, '자': 650, '작': 651, '잔': 652, '잖': 653, '잘': 654, '잠': 655, '잡': 656, '잤': 657, '장': 658, '재': 659, '잭': 660, '쟁': 661, '저': 662, '적': 663, '전': 664, '절': 665, '젊': 666, '점': 667, '접': 668, '정': 669, '제': 670, '젝': 671, '젠': 672, '젯': 673, '져': 674, '졌': 675, '조': 676, '족': 677, '존': 678, '졸': 679, '좀': 680, '종': 681, '좋': 682, '좌': 683, '죄': 684, '죠': 685, '주': 686, '죽': 687, '준': 688, '줄': 689, '중': 690, '줘': 691, '줬': 692, '쥐': 693, '즈': 694, '즉': 695, '즐': 696, '즘': 697, '증': 698, '지': 699, '직': 700, '진': 701, '질': 702, '집': 703, '짓': 704, '짖': 705, '짜': 706, '짝': 707, '짧': 708, '째': 709, '쨌': 710, '쩔': 711, '쩡': 712, '쪄': 713, '쪘': 714, '쪼': 715, '쪽': 716, '쫓': 717, '쯤': 718, '찌': 719, '찍': 720, '찔': 721, '찡': 722, '찢': 723, '차': 724, '착': 725, '찬': 726, '찮': 727, '찰': 728, '참': 729, '찼': 730, '창': 731, '찾': 732, '채': 733, '책': 734, '챌': 735, '챘': 736, '처': 737, '척': 738, '천': 739, '철': 740, '첫': 741, '청': 742, '체': 743, '쳐': 744, '쳤': 745, '초': 746, '촌': 747, '총': 748, '최': 749, '추': 750, '축': 751, '출': 752, '춤': 753, '충': 754, '춰': 755, '췄': 756, '취': 757, '츠': 758, '측': 759, '치': 760, '칙': 761, '친': 762, '칠': 763, '침': 764, '칩': 765, '카': 766, '캐': 767, '커': 768, '컨': 769, '컴': 770, '컵': 771, '케': 772, '켓': 773, '켜': 774, '켤': 775, '켰': 776, '코': 777, '콜': 778, '콥': 779, '콩': 780, '쾅': 781, '쿠': 782, '쿨': 783, '퀴': 784, '큐': 785, '크': 786, '큰': 787, '큼': 788, '키': 789, '킬': 790, '킹': 791, '타': 792, '탁': 793, '탄': 794, '탈': 795, '탐': 796, '탑': 797, '탓': 798, '탔': 799, '탕': 800, '태': 801, '택': 802, '탱': 803, '터': 804, '턱': 805, '턴': 806, '테': 807, '텐': 808, '토': 809, '톤': 810, '톰': 811, '톱': 812, '통': 813, '퇴': 814, '투': 815, '트': 816, '특': 817, '튼': 818, '틀': 819, '티': 820, '틱': 821, '틴': 822, '팀': 823, '팅': 824, '파': 825, '판': 826, '팔': 827, '팠': 828, '패': 829, '퍼': 830, '펐': 831, '페': 832, '펙': 833, '펜': 834, '펭': 835, '펴': 836, '편': 837, '평': 838, '폐': 839, '포': 840, '폭': 841, '폰': 842, '표': 843, '푸': 844, '푹': 845, '풀': 846, '품': 847, '풍': 848, '퓨': 849, '프': 850, '픈': 851, '플': 852, '픔': 853, '피': 854, '필': 855, '핑': 856, '하': 857, '학': 858, '한': 859, '할': 860, '함': 861, '합': 862, '항': 863, '해': 864, '핸': 865, '핼': 866, '햄': 867, '했': 868, '행': 869, '향': 870, '허': 871, '헉': 872, '헌': 873, '험': 874, '헤': 875, '헬': 876, '헷': 877, '혀': 878, '현': 879, '혈': 880, '혐': 881, '협': 882, '혔': 883, '형': 884, '혜': 885, '호': 886, '혹': 887, '혼': 888, '홀': 889, '홋': 890, '화': 891, '확': 892, '환': 893, '활': 894, '황': 895, '회': 896, '획': 897, '효': 898, '후': 899, '훈': 900, '훌': 901, '훔': 902, '훨': 903, '휘': 904, '휴': 905, '흐': 906, '흔': 907, '흘': 908, '흙': 909, '흠': 910, '흡': 911, '흥': 912, '희': 913, '흰': 914, '히': 915, '힌': 916, '힘': 917}\n"
     ]
    }
   ],
   "source": [
    "# 각 문자에 인덱스 부여\n",
    "src_to_index = dict([(char, i+1) for i, char in enumerate(src_vocab)])\n",
    "tar_to_index = dict([(char, i+1) for i, char in enumerate(tar_vocab)])\n",
    "print(src_to_index)\n",
    "print(tar_to_index)"
   ]
  },
  {
   "cell_type": "markdown",
   "metadata": {
    "id": "9MP3nMXnHPjz"
   },
   "source": [
    "### 데이터 정수 인코딩"
   ]
  },
  {
   "cell_type": "code",
   "execution_count": 54,
   "metadata": {
    "colab": {
     "base_uri": "https://localhost:8080/"
    },
    "executionInfo": {
     "elapsed": 12,
     "status": "ok",
     "timestamp": 1648082687748,
     "user": {
      "displayName": "Jungi Kim",
      "photoUrl": "https://lh3.googleusercontent.com/a-/AOh14GiXo5s6ZHz3Kl3yMFyG1UmkGVl4Aa8w33ZzVWhe4w=s64",
      "userId": "13599710065611566056"
     },
     "user_tz": -540
    },
    "id": "caAAWFxpGsjN",
    "outputId": "2e07dbf7-3af0-478d-82cc-afdb909ce0cd"
   },
   "outputs": [
    {
     "name": "stdout",
     "output_type": "stream",
     "text": [
      "source 문장의 정수 인코딩 : [[29, 61, 9], [30, 55, 9], [40, 67, 60, 2], [40, 67, 60, 9], [45, 54, 61, 22]]\n"
     ]
    }
   ],
   "source": [
    "encoder_input = []\n",
    "\n",
    "# 1개의 문장\n",
    "for line in df.src:\n",
    "  encoded_line = []\n",
    "  # 각 줄에서 1개의 char\n",
    "  for char in line:\n",
    "    # 각 char을 정수로 변환\n",
    "    encoded_line.append(src_to_index[char])\n",
    "  encoder_input.append(encoded_line)\n",
    "\n",
    "print('source 문장의 정수 인코딩 :',encoder_input[:5])"
   ]
  },
  {
   "cell_type": "code",
   "execution_count": 55,
   "metadata": {
    "colab": {
     "base_uri": "https://localhost:8080/"
    },
    "executionInfo": {
     "elapsed": 323,
     "status": "ok",
     "timestamp": 1648082688063,
     "user": {
      "displayName": "Jungi Kim",
      "photoUrl": "https://lh3.googleusercontent.com/a-/AOh14GiXo5s6ZHz3Kl3yMFyG1UmkGVl4Aa8w33ZzVWhe4w=s64",
      "userId": "13599710065611566056"
     },
     "user_tz": -540
    },
    "id": "HaVwlUqFHJ6R",
    "outputId": "9bb5d455-1361-4bfa-d2e6-f74e54e14d99"
   },
   "outputs": [
    {
     "name": "stdout",
     "output_type": "stream",
     "text": [
      "target 문장의 정수 인코딩 : [[1, 3, 44, 11, 3, 2], [1, 3, 552, 196, 11, 3, 2], [1, 3, 289, 574, 4, 3, 2], [1, 3, 289, 574, 11, 3, 2], [1, 3, 207, 96, 24, 3, 2]]\n"
     ]
    }
   ],
   "source": [
    "decoder_input = []\n",
    "\n",
    "for line in df.tar:\n",
    "  decoded_line = []\n",
    "  for char in line:\n",
    "    decoded_line.append(tar_to_index[char])\n",
    "  decoder_input.append(decoded_line)\n",
    "\n",
    "print('target 문장의 정수 인코딩 :',decoder_input[:5])"
   ]
  },
  {
   "cell_type": "code",
   "execution_count": 56,
   "metadata": {
    "colab": {
     "base_uri": "https://localhost:8080/"
    },
    "executionInfo": {
     "elapsed": 838,
     "status": "ok",
     "timestamp": 1648082688899,
     "user": {
      "displayName": "Jungi Kim",
      "photoUrl": "https://lh3.googleusercontent.com/a-/AOh14GiXo5s6ZHz3Kl3yMFyG1UmkGVl4Aa8w33ZzVWhe4w=s64",
      "userId": "13599710065611566056"
     },
     "user_tz": -540
    },
    "id": "X-ZGRT92HoUn",
    "outputId": "65218fca-df8c-4818-8a0a-c0a12e8ccaee"
   },
   "outputs": [
    {
     "name": "stdout",
     "output_type": "stream",
     "text": [
      "target 문장 레이블의 정수 인코딩 : [[3, 44, 11, 3, 2], [3, 552, 196, 11, 3, 2], [3, 289, 574, 4, 3, 2], [3, 289, 574, 11, 3, 2], [3, 207, 96, 24, 3, 2]]\n"
     ]
    }
   ],
   "source": [
    "'''\n",
    "디코더의 예측값과 비교하기 위한 실제값은\n",
    "시작 심볼에 해당되는 <sos>가 있을 필요가 없다.\n",
    "\n",
    "따라서 정수 인코딩 과정에서 <sos>를 제거한다.\n",
    "'''\n",
    "decoder_target = []\n",
    "\n",
    "for line in df.tar:\n",
    "  timestep = 0\n",
    "  decoded_line = []\n",
    "  for char in line:\n",
    "    if timestep > 0:\n",
    "      decoded_line.append(tar_to_index[char])\n",
    "    timestep = timestep + 1\n",
    "  decoder_target.append(decoded_line)\n",
    "\n",
    "print('target 문장 레이블의 정수 인코딩 :',decoder_target[:5])"
   ]
  },
  {
   "cell_type": "markdown",
   "metadata": {
    "id": "mD9JCNI3H4AQ"
   },
   "source": [
    "### 데이터 패딩 처리"
   ]
  },
  {
   "cell_type": "code",
   "execution_count": 57,
   "metadata": {
    "colab": {
     "base_uri": "https://localhost:8080/"
    },
    "executionInfo": {
     "elapsed": 10,
     "status": "ok",
     "timestamp": 1648082688900,
     "user": {
      "displayName": "Jungi Kim",
      "photoUrl": "https://lh3.googleusercontent.com/a-/AOh14GiXo5s6ZHz3Kl3yMFyG1UmkGVl4Aa8w33ZzVWhe4w=s64",
      "userId": "13599710065611566056"
     },
     "user_tz": -540
    },
    "id": "DjoUNdBKH7u3",
    "outputId": "1952f1a7-159c-4e33-b212-68ed39dd6747"
   },
   "outputs": [
    {
     "name": "stdout",
     "output_type": "stream",
     "text": [
      "source 문장의 최대 길이 : 537\n",
      "target 문장의 최대 길이 : 300\n"
     ]
    }
   ],
   "source": [
    "max_src_len = max([len(line) for line in df.src])\n",
    "max_tar_len = max([len(line) for line in df.tar])\n",
    "print('source 문장의 최대 길이 :',max_src_len)\n",
    "print('target 문장의 최대 길이 :',max_tar_len)"
   ]
  },
  {
   "cell_type": "code",
   "execution_count": 58,
   "metadata": {
    "executionInfo": {
     "elapsed": 548,
     "status": "ok",
     "timestamp": 1648082689441,
     "user": {
      "displayName": "Jungi Kim",
      "photoUrl": "https://lh3.googleusercontent.com/a-/AOh14GiXo5s6ZHz3Kl3yMFyG1UmkGVl4Aa8w33ZzVWhe4w=s64",
      "userId": "13599710065611566056"
     },
     "user_tz": -540
    },
    "id": "iKu0QW9MIZSv"
   },
   "outputs": [],
   "source": [
    "encoder_input = pad_sequences(encoder_input, maxlen=max_src_len, padding='post')\n",
    "decoder_input = pad_sequences(decoder_input, maxlen=max_tar_len, padding='post')\n",
    "decoder_target = pad_sequences(decoder_target, maxlen=max_tar_len, padding='post')"
   ]
  },
  {
   "cell_type": "markdown",
   "metadata": {
    "id": "h8LK0EYnAMzA"
   },
   "source": [
    "### 데이터 원 핫 인코딩"
   ]
  },
  {
   "cell_type": "code",
   "execution_count": 59,
   "metadata": {
    "executionInfo": {
     "elapsed": 3599,
     "status": "ok",
     "timestamp": 1648082693038,
     "user": {
      "displayName": "Jungi Kim",
      "photoUrl": "https://lh3.googleusercontent.com/a-/AOh14GiXo5s6ZHz3Kl3yMFyG1UmkGVl4Aa8w33ZzVWhe4w=s64",
      "userId": "13599710065611566056"
     },
     "user_tz": -540
    },
    "id": "IvatUEI5FXas"
   },
   "outputs": [],
   "source": [
    "encoder_input = to_categorical(encoder_input)\n",
    "decoder_input = to_categorical(decoder_input)\n",
    "decoder_target = to_categorical(decoder_target)"
   ]
  },
  {
   "cell_type": "code",
   "execution_count": 60,
   "metadata": {
    "colab": {
     "base_uri": "https://localhost:8080/"
    },
    "executionInfo": {
     "elapsed": 32,
     "status": "ok",
     "timestamp": 1648082693039,
     "user": {
      "displayName": "Jungi Kim",
      "photoUrl": "https://lh3.googleusercontent.com/a-/AOh14GiXo5s6ZHz3Kl3yMFyG1UmkGVl4Aa8w33ZzVWhe4w=s64",
      "userId": "13599710065611566056"
     },
     "user_tz": -540
    },
    "id": "ROyLuRo03PE_",
    "outputId": "7a45ecfb-2a70-4330-a2c5-c657715cbf7d"
   },
   "outputs": [
    {
     "name": "stdout",
     "output_type": "stream",
     "text": [
      "(3798, 537, 75)\n",
      "(3798, 300, 918)\n",
      "(3798, 300, 918)\n"
     ]
    }
   ],
   "source": [
    "print(encoder_input.shape)\n",
    "print(decoder_input.shape)\n",
    "print(decoder_target.shape)"
   ]
  },
  {
   "cell_type": "markdown",
   "metadata": {
    "id": "lfVjdzTlJ6UT"
   },
   "source": [
    "## 모델 생성"
   ]
  },
  {
   "cell_type": "code",
   "execution_count": 61,
   "metadata": {
    "executionInfo": {
     "elapsed": 499,
     "status": "ok",
     "timestamp": 1648082693516,
     "user": {
      "displayName": "Jungi Kim",
      "photoUrl": "https://lh3.googleusercontent.com/a-/AOh14GiXo5s6ZHz3Kl3yMFyG1UmkGVl4Aa8w33ZzVWhe4w=s64",
      "userId": "13599710065611566056"
     },
     "user_tz": -540
    },
    "id": "5vQSCS5WKBTb"
   },
   "outputs": [],
   "source": [
    "encoder_inputs = Input(shape=(None, src_vocab_size+1))\n",
    "encoder_lstm = LSTM(units=256, return_state=True)\n",
    "\n",
    "# encoder_outputs은 여기서는 불필요\n",
    "encoder_outputs, state_h, state_c = encoder_lstm(encoder_inputs)\n",
    "\n",
    "# LSTM은 바닐라 RNN과는 달리 상태가 두 개. 은닉 상태와 셀 상태.\n",
    "encoder_states = [state_h, state_c]"
   ]
  },
  {
   "cell_type": "code",
   "execution_count": 62,
   "metadata": {
    "executionInfo": {
     "elapsed": 20,
     "status": "ok",
     "timestamp": 1648082693520,
     "user": {
      "displayName": "Jungi Kim",
      "photoUrl": "https://lh3.googleusercontent.com/a-/AOh14GiXo5s6ZHz3Kl3yMFyG1UmkGVl4Aa8w33ZzVWhe4w=s64",
      "userId": "13599710065611566056"
     },
     "user_tz": -540
    },
    "id": "pFbJSqFaKqdo"
   },
   "outputs": [],
   "source": [
    "decoder_inputs = Input(shape=(None, tar_vocab_size+1))\n",
    "decoder_lstm = LSTM(units=256, return_sequences=True, return_state=True)\n",
    "\n",
    "# 디코더에게 인코더의 은닉 상태, 셀 상태를 전달.\n",
    "decoder_outputs, _, _= decoder_lstm(decoder_inputs, initial_state=encoder_states)\n",
    "\n",
    "decoder_softmax_layer = Dense(tar_vocab_size+1, activation='softmax')\n",
    "decoder_outputs = decoder_softmax_layer(decoder_outputs)\n",
    "\n",
    "model = Model([encoder_inputs, decoder_inputs], decoder_outputs)"
   ]
  },
  {
   "cell_type": "code",
   "execution_count": 63,
   "metadata": {
    "colab": {
     "base_uri": "https://localhost:8080/"
    },
    "executionInfo": {
     "elapsed": 339,
     "status": "ok",
     "timestamp": 1648082693841,
     "user": {
      "displayName": "Jungi Kim",
      "photoUrl": "https://lh3.googleusercontent.com/a-/AOh14GiXo5s6ZHz3Kl3yMFyG1UmkGVl4Aa8w33ZzVWhe4w=s64",
      "userId": "13599710065611566056"
     },
     "user_tz": -540
    },
    "id": "MY45s3ZuPyBN",
    "outputId": "b7d22696-44a4-4d83-eb6c-3aa3e6a1d717"
   },
   "outputs": [
    {
     "name": "stdout",
     "output_type": "stream",
     "text": [
      "Model: \"model_2\"\n",
      "__________________________________________________________________________________________________\n",
      " Layer (type)                   Output Shape         Param #     Connected to                     \n",
      "==================================================================================================\n",
      " input_5 (InputLayer)           [(None, None, 75)]   0           []                               \n",
      "                                                                                                  \n",
      " input_6 (InputLayer)           [(None, None, 918)]  0           []                               \n",
      "                                                                                                  \n",
      " lstm_4 (LSTM)                  [(None, 256),        339968      ['input_5[0][0]']                \n",
      "                                 (None, 256),                                                     \n",
      "                                 (None, 256)]                                                     \n",
      "                                                                                                  \n",
      " lstm_5 (LSTM)                  [(None, None, 256),  1203200     ['input_6[0][0]',                \n",
      "                                 (None, 256),                     'lstm_4[0][1]',                 \n",
      "                                 (None, 256)]                     'lstm_4[0][2]']                 \n",
      "                                                                                                  \n",
      " dense_2 (Dense)                (None, None, 918)    235926      ['lstm_5[0][0]']                 \n",
      "                                                                                                  \n",
      "==================================================================================================\n",
      "Total params: 1,779,094\n",
      "Trainable params: 1,779,094\n",
      "Non-trainable params: 0\n",
      "__________________________________________________________________________________________________\n"
     ]
    }
   ],
   "source": [
    "model.summary()"
   ]
  },
  {
   "cell_type": "code",
   "execution_count": 73,
   "metadata": {
    "colab": {
     "base_uri": "https://localhost:8080/",
     "height": 385
    },
    "executionInfo": {
     "elapsed": 14,
     "status": "ok",
     "timestamp": 1648082693844,
     "user": {
      "displayName": "Jungi Kim",
      "photoUrl": "https://lh3.googleusercontent.com/a-/AOh14GiXo5s6ZHz3Kl3yMFyG1UmkGVl4Aa8w33ZzVWhe4w=s64",
      "userId": "13599710065611566056"
     },
     "user_tz": -540
    },
    "id": "qexdCxc_TjxR",
    "outputId": "3145642d-be03-4670-d154-32f9f0d65e57"
   },
   "outputs": [
    {
     "data": {
      "image/svg+xml": [
       "<svg xmlns=\"http://www.w3.org/2000/svg\" xmlns:xlink=\"http://www.w3.org/1999/xlink\" width=\"569pt\" height=\"285pt\" viewBox=\"0.00 0.00 629.88 316.00\">\n",
       "<g id=\"graph0\" class=\"graph\" transform=\"scale(0.902778 0.902778) rotate(0) translate(4 312)\">\n",
       "<title>G</title>\n",
       "<polygon fill=\"white\" stroke=\"none\" points=\"-4,4 -4,-312 625.88,-312 625.88,4 -4,4\"/>\n",
       "<!-- 11049399632 -->\n",
       "<g id=\"node1\" class=\"node\">\n",
       "<title>11049399632</title>\n",
       "<polygon fill=\"none\" stroke=\"black\" points=\"47.25,-258.5 47.25,-307.5 298.5,-307.5 298.5,-258.5 47.25,-258.5\"/>\n",
       "<text text-anchor=\"middle\" x=\"85.25\" y=\"-290.2\" font-family=\"Times,serif\" font-size=\"14.00\">input_5</text>\n",
       "<polyline fill=\"none\" stroke=\"black\" points=\"47.25,-283 123.25,-283\"/>\n",
       "<text text-anchor=\"middle\" x=\"85.25\" y=\"-265.7\" font-family=\"Times,serif\" font-size=\"14.00\">InputLayer</text>\n",
       "<polyline fill=\"none\" stroke=\"black\" points=\"123.25,-258.5 123.25,-307.5\"/>\n",
       "<text text-anchor=\"middle\" x=\"150.38\" y=\"-290.2\" font-family=\"Times,serif\" font-size=\"14.00\">input:</text>\n",
       "<polyline fill=\"none\" stroke=\"black\" points=\"123.25,-283 177.5,-283\"/>\n",
       "<text text-anchor=\"middle\" x=\"150.38\" y=\"-265.7\" font-family=\"Times,serif\" font-size=\"14.00\">output:</text>\n",
       "<polyline fill=\"none\" stroke=\"black\" points=\"177.5,-258.5 177.5,-307.5\"/>\n",
       "<text text-anchor=\"middle\" x=\"238\" y=\"-290.2\" font-family=\"Times,serif\" font-size=\"14.00\">[(None, None, 75)]</text>\n",
       "<polyline fill=\"none\" stroke=\"black\" points=\"177.5,-283 298.5,-283\"/>\n",
       "<text text-anchor=\"middle\" x=\"238\" y=\"-265.7\" font-family=\"Times,serif\" font-size=\"14.00\">[(None, None, 75)]</text>\n",
       "</g>\n",
       "<!-- 11049399680 -->\n",
       "<g id=\"node3\" class=\"node\">\n",
       "<title>11049399680</title>\n",
       "<polygon fill=\"none\" stroke=\"black\" points=\"0,-172.5 0,-221.5 345.75,-221.5 345.75,-172.5 0,-172.5\"/>\n",
       "<text text-anchor=\"middle\" x=\"26.75\" y=\"-204.2\" font-family=\"Times,serif\" font-size=\"14.00\">lstm_4</text>\n",
       "<polyline fill=\"none\" stroke=\"black\" points=\"0,-197 53.5,-197\"/>\n",
       "<text text-anchor=\"middle\" x=\"26.75\" y=\"-179.7\" font-family=\"Times,serif\" font-size=\"14.00\">LSTM</text>\n",
       "<polyline fill=\"none\" stroke=\"black\" points=\"53.5,-172.5 53.5,-221.5\"/>\n",
       "<text text-anchor=\"middle\" x=\"80.62\" y=\"-204.2\" font-family=\"Times,serif\" font-size=\"14.00\">input:</text>\n",
       "<polyline fill=\"none\" stroke=\"black\" points=\"53.5,-197 107.75,-197\"/>\n",
       "<text text-anchor=\"middle\" x=\"80.62\" y=\"-179.7\" font-family=\"Times,serif\" font-size=\"14.00\">output:</text>\n",
       "<polyline fill=\"none\" stroke=\"black\" points=\"107.75,-172.5 107.75,-221.5\"/>\n",
       "<text text-anchor=\"middle\" x=\"226.75\" y=\"-204.2\" font-family=\"Times,serif\" font-size=\"14.00\">(None, None, 75)</text>\n",
       "<polyline fill=\"none\" stroke=\"black\" points=\"107.75,-197 345.75,-197\"/>\n",
       "<text text-anchor=\"middle\" x=\"226.75\" y=\"-179.7\" font-family=\"Times,serif\" font-size=\"14.00\">[(None, 256), (None, 256), (None, 256)]</text>\n",
       "</g>\n",
       "<!-- 11049399632&#45;&gt;11049399680 -->\n",
       "<g id=\"edge1\" class=\"edge\">\n",
       "<title>11049399632-&gt;11049399680</title>\n",
       "<path fill=\"none\" stroke=\"black\" d=\"M172.88,-258.15C172.88,-250.44 172.88,-241.71 172.88,-233.35\"/>\n",
       "<polygon fill=\"black\" stroke=\"black\" points=\"176.38,-233.42 172.88,-223.42 169.38,-233.42 176.38,-233.42\"/>\n",
       "</g>\n",
       "<!-- 11079519056 -->\n",
       "<g id=\"node2\" class=\"node\">\n",
       "<title>11079519056</title>\n",
       "<polygon fill=\"none\" stroke=\"black\" points=\"363.88,-172.5 363.88,-221.5 621.88,-221.5 621.88,-172.5 363.88,-172.5\"/>\n",
       "<text text-anchor=\"middle\" x=\"401.88\" y=\"-204.2\" font-family=\"Times,serif\" font-size=\"14.00\">input_6</text>\n",
       "<polyline fill=\"none\" stroke=\"black\" points=\"363.88,-197 439.88,-197\"/>\n",
       "<text text-anchor=\"middle\" x=\"401.88\" y=\"-179.7\" font-family=\"Times,serif\" font-size=\"14.00\">InputLayer</text>\n",
       "<polyline fill=\"none\" stroke=\"black\" points=\"439.88,-172.5 439.88,-221.5\"/>\n",
       "<text text-anchor=\"middle\" x=\"467\" y=\"-204.2\" font-family=\"Times,serif\" font-size=\"14.00\">input:</text>\n",
       "<polyline fill=\"none\" stroke=\"black\" points=\"439.88,-197 494.12,-197\"/>\n",
       "<text text-anchor=\"middle\" x=\"467\" y=\"-179.7\" font-family=\"Times,serif\" font-size=\"14.00\">output:</text>\n",
       "<polyline fill=\"none\" stroke=\"black\" points=\"494.12,-172.5 494.12,-221.5\"/>\n",
       "<text text-anchor=\"middle\" x=\"558\" y=\"-204.2\" font-family=\"Times,serif\" font-size=\"14.00\">[(None, None, 918)]</text>\n",
       "<polyline fill=\"none\" stroke=\"black\" points=\"494.12,-197 621.88,-197\"/>\n",
       "<text text-anchor=\"middle\" x=\"558\" y=\"-179.7\" font-family=\"Times,serif\" font-size=\"14.00\">[(None, None, 918)]</text>\n",
       "</g>\n",
       "<!-- 10949659808 -->\n",
       "<g id=\"node4\" class=\"node\">\n",
       "<title>10949659808</title>\n",
       "<polygon fill=\"none\" stroke=\"black\" points=\"141.62,-86.5 141.62,-135.5 524.12,-135.5 524.12,-86.5 141.62,-86.5\"/>\n",
       "<text text-anchor=\"middle\" x=\"168.38\" y=\"-118.2\" font-family=\"Times,serif\" font-size=\"14.00\">lstm_5</text>\n",
       "<polyline fill=\"none\" stroke=\"black\" points=\"141.62,-111 195.12,-111\"/>\n",
       "<text text-anchor=\"middle\" x=\"168.38\" y=\"-93.7\" font-family=\"Times,serif\" font-size=\"14.00\">LSTM</text>\n",
       "<polyline fill=\"none\" stroke=\"black\" points=\"195.12,-86.5 195.12,-135.5\"/>\n",
       "<text text-anchor=\"middle\" x=\"222.25\" y=\"-118.2\" font-family=\"Times,serif\" font-size=\"14.00\">input:</text>\n",
       "<polyline fill=\"none\" stroke=\"black\" points=\"195.12,-111 249.38,-111\"/>\n",
       "<text text-anchor=\"middle\" x=\"222.25\" y=\"-93.7\" font-family=\"Times,serif\" font-size=\"14.00\">output:</text>\n",
       "<polyline fill=\"none\" stroke=\"black\" points=\"249.38,-86.5 249.38,-135.5\"/>\n",
       "<text text-anchor=\"middle\" x=\"386.75\" y=\"-118.2\" font-family=\"Times,serif\" font-size=\"14.00\">[(None, None, 918), (None, 256), (None, 256)]</text>\n",
       "<polyline fill=\"none\" stroke=\"black\" points=\"249.38,-111 524.12,-111\"/>\n",
       "<text text-anchor=\"middle\" x=\"386.75\" y=\"-93.7\" font-family=\"Times,serif\" font-size=\"14.00\">[(None, None, 256), (None, 256), (None, 256)]</text>\n",
       "</g>\n",
       "<!-- 11079519056&#45;&gt;10949659808 -->\n",
       "<g id=\"edge2\" class=\"edge\">\n",
       "<title>11079519056-&gt;10949659808</title>\n",
       "<path fill=\"none\" stroke=\"black\" d=\"M447.45,-172.15C429.13,-162.53 407.81,-151.34 388.56,-141.23\"/>\n",
       "<polygon fill=\"black\" stroke=\"black\" points=\"390.23,-138.16 379.75,-136.61 386.98,-144.36 390.23,-138.16\"/>\n",
       "</g>\n",
       "<!-- 11049399680&#45;&gt;10949659808 -->\n",
       "<g id=\"edge3\" class=\"edge\">\n",
       "<title>11049399680-&gt;10949659808</title>\n",
       "<path fill=\"none\" stroke=\"black\" d=\"M218.3,-172.15C236.62,-162.53 257.94,-151.34 277.19,-141.23\"/>\n",
       "<polygon fill=\"black\" stroke=\"black\" points=\"278.77,-144.36 286,-136.61 275.52,-138.16 278.77,-144.36\"/>\n",
       "</g>\n",
       "<!-- 11049400448 -->\n",
       "<g id=\"node5\" class=\"node\">\n",
       "<title>11049400448</title>\n",
       "<polygon fill=\"none\" stroke=\"black\" points=\"216.25,-0.5 216.25,-49.5 449.5,-49.5 449.5,-0.5 216.25,-0.5\"/>\n",
       "<text text-anchor=\"middle\" x=\"246.38\" y=\"-32.2\" font-family=\"Times,serif\" font-size=\"14.00\">dense_2</text>\n",
       "<polyline fill=\"none\" stroke=\"black\" points=\"216.25,-25 276.5,-25\"/>\n",
       "<text text-anchor=\"middle\" x=\"246.38\" y=\"-7.7\" font-family=\"Times,serif\" font-size=\"14.00\">Dense</text>\n",
       "<polyline fill=\"none\" stroke=\"black\" points=\"276.5,-0.5 276.5,-49.5\"/>\n",
       "<text text-anchor=\"middle\" x=\"303.62\" y=\"-32.2\" font-family=\"Times,serif\" font-size=\"14.00\">input:</text>\n",
       "<polyline fill=\"none\" stroke=\"black\" points=\"276.5,-25 330.75,-25\"/>\n",
       "<text text-anchor=\"middle\" x=\"303.62\" y=\"-7.7\" font-family=\"Times,serif\" font-size=\"14.00\">output:</text>\n",
       "<polyline fill=\"none\" stroke=\"black\" points=\"330.75,-0.5 330.75,-49.5\"/>\n",
       "<text text-anchor=\"middle\" x=\"390.12\" y=\"-32.2\" font-family=\"Times,serif\" font-size=\"14.00\">(None, None, 256)</text>\n",
       "<polyline fill=\"none\" stroke=\"black\" points=\"330.75,-25 449.5,-25\"/>\n",
       "<text text-anchor=\"middle\" x=\"390.12\" y=\"-7.7\" font-family=\"Times,serif\" font-size=\"14.00\">(None, None, 918)</text>\n",
       "</g>\n",
       "<!-- 10949659808&#45;&gt;11049400448 -->\n",
       "<g id=\"edge4\" class=\"edge\">\n",
       "<title>10949659808-&gt;11049400448</title>\n",
       "<path fill=\"none\" stroke=\"black\" d=\"M332.88,-86.15C332.88,-78.44 332.88,-69.71 332.88,-61.35\"/>\n",
       "<polygon fill=\"black\" stroke=\"black\" points=\"336.38,-61.42 332.88,-51.42 329.38,-61.42 336.38,-61.42\"/>\n",
       "</g>\n",
       "</g>\n",
       "</svg>"
      ],
      "text/plain": [
       "<IPython.core.display.SVG object>"
      ]
     },
     "execution_count": 73,
     "metadata": {},
     "output_type": "execute_result"
    }
   ],
   "source": [
    "# %matplotlib inline\n",
    "\n",
    "SVG(model_to_dot(model, show_shapes=True, show_layer_names=True, dpi=65).create(prog='dot', format='svg'))"
   ]
  },
  {
   "cell_type": "code",
   "execution_count": 65,
   "metadata": {
    "executionInfo": {
     "elapsed": 368,
     "status": "ok",
     "timestamp": 1648082694202,
     "user": {
      "displayName": "Jungi Kim",
      "photoUrl": "https://lh3.googleusercontent.com/a-/AOh14GiXo5s6ZHz3Kl3yMFyG1UmkGVl4Aa8w33ZzVWhe4w=s64",
      "userId": "13599710065611566056"
     },
     "user_tz": -540
    },
    "id": "Ondz4zMgQAar"
   },
   "outputs": [],
   "source": [
    "model.compile(optimizer=\"rmsprop\", loss=\"categorical_crossentropy\",metrics=['acc'])"
   ]
  },
  {
   "cell_type": "code",
   "execution_count": 66,
   "metadata": {
    "executionInfo": {
     "elapsed": 8,
     "status": "ok",
     "timestamp": 1648082694203,
     "user": {
      "displayName": "Jungi Kim",
      "photoUrl": "https://lh3.googleusercontent.com/a-/AOh14GiXo5s6ZHz3Kl3yMFyG1UmkGVl4Aa8w33ZzVWhe4w=s64",
      "userId": "13599710065611566056"
     },
     "user_tz": -540
    },
    "id": "AFnY-lNOJjzF"
   },
   "outputs": [],
   "source": [
    "model_path = './model/model.ep{epoch:02d}.val_loss{val_loss:.4f}.h5'\n",
    "\n",
    "callbacks = [EarlyStopping(monitor='val_loss', patience=2, restore_best_weights=False),\n",
    "             ModelCheckpoint(filepath=model_path, monitor='val_loss', save_best_only=True)]"
   ]
  },
  {
   "cell_type": "code",
   "execution_count": 67,
   "metadata": {
    "colab": {
     "base_uri": "https://localhost:8080/"
    },
    "executionInfo": {
     "elapsed": 596820,
     "status": "ok",
     "timestamp": 1648083291016,
     "user": {
      "displayName": "Jungi Kim",
      "photoUrl": "https://lh3.googleusercontent.com/a-/AOh14GiXo5s6ZHz3Kl3yMFyG1UmkGVl4Aa8w33ZzVWhe4w=s64",
      "userId": "13599710065611566056"
     },
     "user_tz": -540
    },
    "id": "Clekk1BfKy-z",
    "outputId": "d877e960-bd56-4d9e-d9c2-6773c68276f8"
   },
   "outputs": [
    {
     "name": "stdout",
     "output_type": "stream",
     "text": [
      "Epoch 1/40\n"
     ]
    },
    {
     "name": "stderr",
     "output_type": "stream",
     "text": [
      "2023-10-29 15:13:09.778853: W tensorflow/core/platform/profile_utils/cpu_utils.cc:128] Failed to get CPU frequency: 0 Hz\n",
      "2023-10-29 15:13:11.020032: I tensorflow/core/grappler/optimizers/custom_graph_optimizer_registry.cc:113] Plugin optimizer for device_type GPU is enabled.\n",
      "2023-10-29 15:13:11.478282: I tensorflow/core/grappler/optimizers/custom_graph_optimizer_registry.cc:113] Plugin optimizer for device_type GPU is enabled.\n",
      "2023-10-29 15:13:19.465142: I tensorflow/core/grappler/optimizers/custom_graph_optimizer_registry.cc:113] Plugin optimizer for device_type GPU is enabled.\n",
      "2023-10-29 15:13:22.736060: I tensorflow/core/grappler/optimizers/custom_graph_optimizer_registry.cc:113] Plugin optimizer for device_type GPU is enabled.\n",
      "2023-10-29 15:13:50.654664: I tensorflow/core/grappler/optimizers/custom_graph_optimizer_registry.cc:113] Plugin optimizer for device_type GPU is enabled.\n"
     ]
    },
    {
     "name": "stdout",
     "output_type": "stream",
     "text": [
      "48/48 [==============================] - ETA: 0s - loss: 0.7977 - acc: 0.9177"
     ]
    },
    {
     "name": "stderr",
     "output_type": "stream",
     "text": [
      "2023-10-29 15:17:43.795609: I tensorflow/core/grappler/optimizers/custom_graph_optimizer_registry.cc:113] Plugin optimizer for device_type GPU is enabled.\n",
      "2023-10-29 15:17:44.067974: I tensorflow/core/grappler/optimizers/custom_graph_optimizer_registry.cc:113] Plugin optimizer for device_type GPU is enabled.\n",
      "2023-10-29 15:17:52.072150: I tensorflow/core/grappler/optimizers/custom_graph_optimizer_registry.cc:113] Plugin optimizer for device_type GPU is enabled.\n"
     ]
    },
    {
     "name": "stdout",
     "output_type": "stream",
     "text": [
      "48/48 [==============================] - 298s 4s/step - loss: 0.7977 - acc: 0.9177 - val_loss: 0.7017 - val_acc: 0.9110\n",
      "Epoch 2/40\n",
      "48/48 [==============================] - 19s 400ms/step - loss: 0.2963 - acc: 0.9547 - val_loss: 0.5458 - val_acc: 0.9209\n",
      "Epoch 3/40\n",
      "48/48 [==============================] - 19s 392ms/step - loss: 0.2383 - acc: 0.9567 - val_loss: 0.6373 - val_acc: 0.9212\n",
      "Epoch 4/40\n",
      "48/48 [==============================] - 19s 397ms/step - loss: 0.2264 - acc: 0.9582 - val_loss: 0.4534 - val_acc: 0.9272\n",
      "Epoch 5/40\n",
      "48/48 [==============================] - 19s 395ms/step - loss: 0.2100 - acc: 0.9615 - val_loss: 0.3902 - val_acc: 0.9361\n",
      "Epoch 6/40\n",
      "48/48 [==============================] - 19s 396ms/step - loss: 0.1960 - acc: 0.9647 - val_loss: 0.3609 - val_acc: 0.9408\n",
      "Epoch 7/40\n",
      "48/48 [==============================] - 19s 401ms/step - loss: 0.1790 - acc: 0.9676 - val_loss: 0.3539 - val_acc: 0.9422\n",
      "Epoch 8/40\n",
      "48/48 [==============================] - 20s 415ms/step - loss: 0.1714 - acc: 0.9688 - val_loss: 0.3390 - val_acc: 0.9423\n",
      "Epoch 9/40\n",
      "48/48 [==============================] - 20s 411ms/step - loss: 0.1626 - acc: 0.9701 - val_loss: 0.3327 - val_acc: 0.9440\n",
      "Epoch 10/40\n",
      "48/48 [==============================] - 20s 411ms/step - loss: 0.1606 - acc: 0.9708 - val_loss: 0.3045 - val_acc: 0.9464\n",
      "Epoch 11/40\n",
      "48/48 [==============================] - 20s 416ms/step - loss: 0.1519 - acc: 0.9716 - val_loss: 0.3043 - val_acc: 0.9468\n",
      "Epoch 12/40\n",
      "48/48 [==============================] - 20s 418ms/step - loss: 0.1472 - acc: 0.9723 - val_loss: 0.3012 - val_acc: 0.9468\n",
      "Epoch 13/40\n",
      "48/48 [==============================] - 20s 421ms/step - loss: 0.1782 - acc: 0.9723 - val_loss: 0.2979 - val_acc: 0.9472\n",
      "Epoch 14/40\n",
      "48/48 [==============================] - 20s 416ms/step - loss: 0.1387 - acc: 0.9734 - val_loss: 0.2917 - val_acc: 0.9476\n",
      "Epoch 15/40\n",
      "48/48 [==============================] - 21s 433ms/step - loss: 0.1359 - acc: 0.9737 - val_loss: 0.2874 - val_acc: 0.9484\n",
      "Epoch 16/40\n",
      "48/48 [==============================] - 21s 448ms/step - loss: 0.1332 - acc: 0.9740 - val_loss: 0.2821 - val_acc: 0.9486\n",
      "Epoch 17/40\n",
      "48/48 [==============================] - 23s 483ms/step - loss: 0.1298 - acc: 0.9744 - val_loss: 0.2797 - val_acc: 0.9487\n",
      "Epoch 18/40\n",
      "48/48 [==============================] - 23s 471ms/step - loss: 0.1266 - acc: 0.9748 - val_loss: 0.2744 - val_acc: 0.9495\n",
      "Epoch 19/40\n",
      "48/48 [==============================] - 22s 463ms/step - loss: 0.1235 - acc: 0.9753 - val_loss: 0.2788 - val_acc: 0.9492\n",
      "Epoch 20/40\n",
      "48/48 [==============================] - 22s 467ms/step - loss: 0.1206 - acc: 0.9757 - val_loss: 0.2697 - val_acc: 0.9503\n",
      "Epoch 21/40\n",
      "48/48 [==============================] - 22s 469ms/step - loss: 0.1178 - acc: 0.9761 - val_loss: 0.2725 - val_acc: 0.9502\n",
      "Epoch 22/40\n",
      "48/48 [==============================] - 23s 477ms/step - loss: 0.1153 - acc: 0.9764 - val_loss: 0.2720 - val_acc: 0.9499\n"
     ]
    },
    {
     "data": {
      "text/plain": [
       "<keras.callbacks.History at 0x294577640>"
      ]
     },
     "execution_count": 67,
     "metadata": {},
     "output_type": "execute_result"
    }
   ],
   "source": [
    "model.fit(x=[encoder_input, decoder_input], y=decoder_target, batch_size=64, epochs=40, validation_split=0.2, callbacks=callbacks)"
   ]
  },
  {
   "cell_type": "markdown",
   "metadata": {
    "id": "ddkDappVc1pn"
   },
   "source": [
    "## 모델 테스트"
   ]
  },
  {
   "cell_type": "code",
   "execution_count": 68,
   "metadata": {
    "executionInfo": {
     "elapsed": 30,
     "status": "ok",
     "timestamp": 1648083291018,
     "user": {
      "displayName": "Jungi Kim",
      "photoUrl": "https://lh3.googleusercontent.com/a-/AOh14GiXo5s6ZHz3Kl3yMFyG1UmkGVl4Aa8w33ZzVWhe4w=s64",
      "userId": "13599710065611566056"
     },
     "user_tz": -540
    },
    "id": "14SxLxeIczcs"
   },
   "outputs": [],
   "source": [
    "encoder_model = Model(inputs=encoder_inputs, outputs=encoder_states)"
   ]
  },
  {
   "cell_type": "code",
   "execution_count": 69,
   "metadata": {
    "executionInfo": {
     "elapsed": 31343,
     "status": "ok",
     "timestamp": 1648083322349,
     "user": {
      "displayName": "Jungi Kim",
      "photoUrl": "https://lh3.googleusercontent.com/a-/AOh14GiXo5s6ZHz3Kl3yMFyG1UmkGVl4Aa8w33ZzVWhe4w=s64",
      "userId": "13599710065611566056"
     },
     "user_tz": -540
    },
    "id": "XNH8VwvNdOQD"
   },
   "outputs": [],
   "source": [
    "# 이전 시점의 상태들을 저장하는 텐서\n",
    "decoder_state_input_h = Input(shape=(256,))\n",
    "decoder_state_input_c = Input(shape=(256,))\n",
    "decoder_states_inputs = [decoder_state_input_h, decoder_state_input_c]\n",
    "\n",
    "# 문장의 다음 단어를 예측하기 위해서 초기 상태(initial_state)를 이전 시점의 상태로 사용.\n",
    "# 뒤의 함수 decode_sequence()에 동작을 구현 예정\n",
    "decoder_outputs, state_h, state_c = decoder_lstm(decoder_inputs, initial_state=decoder_states_inputs)\n",
    "\n",
    "# 훈련 과정에서와 달리 LSTM의 리턴하는 은닉 상태와 셀 상태를 버리지 않음.\n",
    "decoder_states = [state_h, state_c]\n",
    "decoder_outputs = decoder_softmax_layer(decoder_outputs)\n",
    "decoder_model = Model(inputs=[decoder_inputs] + decoder_states_inputs, outputs=[decoder_outputs] + decoder_states)"
   ]
  },
  {
   "cell_type": "code",
   "execution_count": 70,
   "metadata": {
    "executionInfo": {
     "elapsed": 30,
     "status": "ok",
     "timestamp": 1648083322351,
     "user": {
      "displayName": "Jungi Kim",
      "photoUrl": "https://lh3.googleusercontent.com/a-/AOh14GiXo5s6ZHz3Kl3yMFyG1UmkGVl4Aa8w33ZzVWhe4w=s64",
      "userId": "13599710065611566056"
     },
     "user_tz": -540
    },
    "id": "fjYXi7VDdQc8"
   },
   "outputs": [],
   "source": [
    "'''\n",
    "단어로부터 인덱스를 얻는 것이 아닌\n",
    "인덱스로부터 단어를 얻을 수 있는 index_to_src와 index_to_tar\n",
    "'''\n",
    "index_to_src = dict((i, char) for char, i in src_to_index.items())\n",
    "index_to_tar = dict((i, char) for char, i in tar_to_index.items())"
   ]
  },
  {
   "cell_type": "code",
   "execution_count": 71,
   "metadata": {
    "executionInfo": {
     "elapsed": 31,
     "status": "ok",
     "timestamp": 1648083322353,
     "user": {
      "displayName": "Jungi Kim",
      "photoUrl": "https://lh3.googleusercontent.com/a-/AOh14GiXo5s6ZHz3Kl3yMFyG1UmkGVl4Aa8w33ZzVWhe4w=s64",
      "userId": "13599710065611566056"
     },
     "user_tz": -540
    },
    "id": "RjAcNDAmdTOk"
   },
   "outputs": [],
   "source": [
    "def decode_sequence(input_seq):\n",
    "  # 입력으로부터 인코더의 상태를 얻음\n",
    "  states_value = encoder_model.predict(input_seq)\n",
    "\n",
    "  # <SOS>에 해당하는 원-핫 벡터 생성\n",
    "  target_seq = np.zeros((1, 1, tar_vocab_size+1))\n",
    "  target_seq[0, 0, tar_to_index['\\t']] = 1.\n",
    "\n",
    "  stop_condition = False\n",
    "  decoded_sentence = \"\"\n",
    "\n",
    "  # stop_condition이 True가 될 때까지 루프 반복\n",
    "  while not stop_condition:\n",
    "    # 이점 시점의 상태 states_value를 현 시점의 초기 상태로 사용\n",
    "    output_tokens, h, c = decoder_model.predict([target_seq] + states_value)\n",
    "\n",
    "    # 예측 결과를 문자로 변환\n",
    "    sampled_token_index = np.argmax(output_tokens[0, -1, :])\n",
    "    sampled_char = index_to_tar[sampled_token_index]\n",
    "\n",
    "    # 현재 시점의 예측 문자를 예측 문장에 추가\n",
    "    decoded_sentence += sampled_char\n",
    "\n",
    "    # <eos>에 도달하거나 최대 길이를 넘으면 중단.\n",
    "    if (sampled_char == '\\n' or\n",
    "        len(decoded_sentence) > max_tar_len):\n",
    "        stop_condition = True\n",
    "\n",
    "    # 현재 시점의 예측 결과를 다음 시점의 입력으로 사용하기 위해 저장\n",
    "    target_seq = np.zeros((1, 1, tar_vocab_size+1))\n",
    "    target_seq[0, 0, sampled_token_index] = 1.\n",
    "\n",
    "    # 현재 시점의 상태를 다음 시점의 상태로 사용하기 위해 저장\n",
    "    states_value = [h, c]\n",
    "\n",
    "  return decoded_sentence"
   ]
  },
  {
   "cell_type": "code",
   "execution_count": 72,
   "metadata": {
    "colab": {
     "base_uri": "https://localhost:8080/"
    },
    "executionInfo": {
     "elapsed": 8002,
     "status": "ok",
     "timestamp": 1648083330325,
     "user": {
      "displayName": "Jungi Kim",
      "photoUrl": "https://lh3.googleusercontent.com/a-/AOh14GiXo5s6ZHz3Kl3yMFyG1UmkGVl4Aa8w33ZzVWhe4w=s64",
      "userId": "13599710065611566056"
     },
     "user_tz": -540
    },
    "id": "fws93-mvdq0G",
    "outputId": "719cacf7-e84c-45e9-87b7-617180141891"
   },
   "outputs": [
    {
     "name": "stderr",
     "output_type": "stream",
     "text": [
      "2023-10-29 15:25:19.156183: I tensorflow/core/grappler/optimizers/custom_graph_optimizer_registry.cc:113] Plugin optimizer for device_type GPU is enabled.\n",
      "2023-10-29 15:25:19.212602: I tensorflow/core/grappler/optimizers/custom_graph_optimizer_registry.cc:113] Plugin optimizer for device_type GPU is enabled.\n"
     ]
    },
    {
     "name": "stdout",
     "output_type": "stream",
     "text": [
      "1/1 [==============================] - 9s 9s/step\n",
      "1/1 [==============================] - 0s 248ms/step\n",
      "1/1 [==============================] - 0s 11ms/step\n",
      "1/1 [==============================] - 0s 11ms/step\n"
     ]
    },
    {
     "name": "stderr",
     "output_type": "stream",
     "text": [
      "2023-10-29 15:25:27.712574: I tensorflow/core/grappler/optimizers/custom_graph_optimizer_registry.cc:113] Plugin optimizer for device_type GPU is enabled.\n",
      "2023-10-29 15:25:27.769893: I tensorflow/core/grappler/optimizers/custom_graph_optimizer_registry.cc:113] Plugin optimizer for device_type GPU is enabled.\n"
     ]
    },
    {
     "name": "stdout",
     "output_type": "stream",
     "text": [
      "1/1 [==============================] - 0s 11ms/step\n",
      "1/1 [==============================] - 0s 12ms/step\n",
      "1/1 [==============================] - 0s 11ms/step\n",
      "1/1 [==============================] - 0s 11ms/step\n",
      "1/1 [==============================] - 0s 11ms/step\n",
      "1/1 [==============================] - 0s 10ms/step\n",
      "1/1 [==============================] - 0s 11ms/step\n",
      "1/1 [==============================] - 0s 11ms/step\n",
      "1/1 [==============================] - 0s 11ms/step\n",
      "1/1 [==============================] - 0s 11ms/step\n",
      "1/1 [==============================] - 0s 11ms/step\n",
      "1/1 [==============================] - 0s 11ms/step\n",
      "1/1 [==============================] - 0s 11ms/step\n",
      "1/1 [==============================] - 0s 10ms/step\n",
      "1/1 [==============================] - 0s 11ms/step\n",
      "1/1 [==============================] - 0s 11ms/step\n",
      "-----------------------------------\n",
      "입력 문장: Run.\n",
      "정답 문장: 뛰어. \n",
      "번역 문장: 톰은 메리를 자기 있을 거야. \n",
      "1/1 [==============================] - 0s 82ms/step\n",
      "1/1 [==============================] - 0s 11ms/step\n",
      "1/1 [==============================] - 0s 11ms/step\n",
      "1/1 [==============================] - 0s 11ms/step\n",
      "1/1 [==============================] - 0s 10ms/step\n",
      "1/1 [==============================] - 0s 14ms/step\n",
      "1/1 [==============================] - 0s 13ms/step\n",
      "1/1 [==============================] - 0s 12ms/step\n",
      "1/1 [==============================] - 0s 11ms/step\n",
      "1/1 [==============================] - 0s 12ms/step\n",
      "1/1 [==============================] - 0s 11ms/step\n",
      "1/1 [==============================] - 0s 11ms/step\n",
      "1/1 [==============================] - 0s 10ms/step\n",
      "1/1 [==============================] - 0s 11ms/step\n",
      "1/1 [==============================] - 0s 10ms/step\n",
      "1/1 [==============================] - 0s 10ms/step\n",
      "1/1 [==============================] - 0s 11ms/step\n",
      "1/1 [==============================] - 0s 11ms/step\n",
      "1/1 [==============================] - 0s 11ms/step\n",
      "1/1 [==============================] - 0s 10ms/step\n",
      "-----------------------------------\n",
      "입력 문장: Help me.\n",
      "정답 문장: 도와줘. \n",
      "번역 문장: 톰은 메리를 자기 있을 거야. \n",
      "1/1 [==============================] - 0s 81ms/step\n",
      "1/1 [==============================] - 0s 11ms/step\n",
      "1/1 [==============================] - 0s 11ms/step\n",
      "1/1 [==============================] - 0s 14ms/step\n",
      "1/1 [==============================] - 0s 15ms/step\n",
      "1/1 [==============================] - 0s 13ms/step\n",
      "1/1 [==============================] - 0s 12ms/step\n",
      "1/1 [==============================] - 0s 12ms/step\n",
      "1/1 [==============================] - 0s 12ms/step\n",
      "1/1 [==============================] - 0s 11ms/step\n",
      "1/1 [==============================] - 0s 13ms/step\n",
      "1/1 [==============================] - 0s 11ms/step\n",
      "1/1 [==============================] - 0s 12ms/step\n",
      "1/1 [==============================] - 0s 12ms/step\n",
      "1/1 [==============================] - 0s 12ms/step\n",
      "1/1 [==============================] - 0s 12ms/step\n",
      "1/1 [==============================] - 0s 12ms/step\n",
      "1/1 [==============================] - 0s 12ms/step\n",
      "1/1 [==============================] - 0s 12ms/step\n",
      "1/1 [==============================] - 0s 12ms/step\n",
      "-----------------------------------\n",
      "입력 문장: Tom lost.\n",
      "정답 문장: 톰이 졌어. \n",
      "번역 문장: 톰은 메리를 자기 있을 거야. \n",
      "1/1 [==============================] - 0s 85ms/step\n",
      "1/1 [==============================] - 0s 12ms/step\n",
      "1/1 [==============================] - 0s 12ms/step\n",
      "1/1 [==============================] - 0s 11ms/step\n",
      "1/1 [==============================] - 0s 13ms/step\n",
      "1/1 [==============================] - 0s 12ms/step\n",
      "1/1 [==============================] - 0s 12ms/step\n",
      "1/1 [==============================] - 0s 12ms/step\n",
      "1/1 [==============================] - 0s 11ms/step\n",
      "1/1 [==============================] - 0s 11ms/step\n",
      "1/1 [==============================] - 0s 11ms/step\n",
      "1/1 [==============================] - 0s 11ms/step\n",
      "1/1 [==============================] - 0s 11ms/step\n",
      "1/1 [==============================] - 0s 11ms/step\n",
      "1/1 [==============================] - 0s 11ms/step\n",
      "1/1 [==============================] - 0s 12ms/step\n",
      "1/1 [==============================] - 0s 12ms/step\n",
      "1/1 [==============================] - 0s 12ms/step\n",
      "1/1 [==============================] - 0s 13ms/step\n",
      "1/1 [==============================] - 0s 16ms/step\n",
      "-----------------------------------\n",
      "입력 문장: Come closer.\n",
      "정답 문장: 가까이 와. \n",
      "번역 문장: 톰은 메리를 자기 있을 거야. \n",
      "1/1 [==============================] - 0s 82ms/step\n",
      "1/1 [==============================] - 0s 11ms/step\n",
      "1/1 [==============================] - 0s 11ms/step\n",
      "1/1 [==============================] - 0s 11ms/step\n",
      "1/1 [==============================] - 0s 11ms/step\n",
      "1/1 [==============================] - 0s 11ms/step\n",
      "1/1 [==============================] - 0s 11ms/step\n",
      "1/1 [==============================] - 0s 11ms/step\n",
      "1/1 [==============================] - 0s 12ms/step\n",
      "1/1 [==============================] - 0s 12ms/step\n",
      "1/1 [==============================] - 0s 12ms/step\n",
      "1/1 [==============================] - 0s 12ms/step\n",
      "1/1 [==============================] - 0s 12ms/step\n",
      "1/1 [==============================] - 0s 12ms/step\n",
      "1/1 [==============================] - 0s 12ms/step\n",
      "1/1 [==============================] - 0s 12ms/step\n",
      "1/1 [==============================] - 0s 13ms/step\n",
      "1/1 [==============================] - 0s 13ms/step\n",
      "1/1 [==============================] - 0s 13ms/step\n",
      "1/1 [==============================] - 0s 12ms/step\n",
      "-----------------------------------\n",
      "입력 문장: Everything's normal.\n",
      "정답 문장: 모든 것이 정상이야. \n",
      "번역 문장: 톰은 메리를 자기 있을 거야. \n"
     ]
    }
   ],
   "source": [
    "for seq_index in [3,50,100,300,1001]: # 입력 문장의 인덱스\n",
    "  input_seq = encoder_input[seq_index:seq_index+1]\n",
    "  decoded_sentence = decode_sequence(input_seq)\n",
    "  print(35 * \"-\")\n",
    "  print('입력 문장:', df.src[seq_index])\n",
    "  print('정답 문장:', df.tar[seq_index][2:len(df.tar[seq_index])-1]) # '\\t'와 '\\n'을 빼고 출력\n",
    "  print('번역 문장:', decoded_sentence[1:len(decoded_sentence)-1]) # '\\n'을 빼고 출력"
   ]
  }
 ],
 "metadata": {
  "accelerator": "GPU",
  "colab": {
   "authorship_tag": "ABX9TyO4jNO3vkKtnu+5unPMnJ1g",
   "collapsed_sections": [],
   "mount_file_id": "1_4goWfqK0LSbp6fk5nGrlNdYp9bL42YV",
   "name": "seq2seq.ipynb",
   "provenance": []
  },
  "kernelspec": {
   "display_name": "Python 3 (ipykernel)",
   "language": "python",
   "name": "python3"
  },
  "language_info": {
   "codemirror_mode": {
    "name": "ipython",
    "version": 3
   },
   "file_extension": ".py",
   "mimetype": "text/x-python",
   "name": "python",
   "nbconvert_exporter": "python",
   "pygments_lexer": "ipython3",
   "version": "3.8.16"
  }
 },
 "nbformat": 4,
 "nbformat_minor": 1
}
