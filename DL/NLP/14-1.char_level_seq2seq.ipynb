{
 "cells": [
  {
   "cell_type": "markdown",
   "metadata": {
    "id": "N7dK9WAqFJ3L"
   },
   "source": [
    "# seq2seq 모델"
   ]
  },
  {
   "cell_type": "code",
   "execution_count": 21,
   "metadata": {},
   "outputs": [],
   "source": [
    "import os\n",
    "os.environ['TF_CPP_MIN_LOG_LEVEL']='2'"
   ]
  },
  {
   "cell_type": "code",
   "execution_count": 22,
   "metadata": {
    "executionInfo": {
     "elapsed": 9,
     "status": "ok",
     "timestamp": 1648082686143,
     "user": {
      "displayName": "Jungi Kim",
      "photoUrl": "https://lh3.googleusercontent.com/a-/AOh14GiXo5s6ZHz3Kl3yMFyG1UmkGVl4Aa8w33ZzVWhe4w=s64",
      "userId": "13599710065611566056"
     },
     "user_tz": -540
    },
    "id": "M7ptfMOZDVog"
   },
   "outputs": [],
   "source": [
    "import pandas as pd\n",
    "from keras.utils import to_categorical, model_to_dot\n",
    "from keras.callbacks import EarlyStopping, ModelCheckpoint\n",
    "from keras.layers import Input, LSTM, Dense\n",
    "from keras.models import Model\n",
    "import numpy as np\n",
    "\n",
    "from IPython.display import SVG\n",
    "from keras_preprocessing.sequence import pad_sequences"
   ]
  },
  {
   "cell_type": "markdown",
   "metadata": {
    "id": "WXnpdXCkFGJD"
   },
   "source": [
    "## 데이터 불러오기"
   ]
  },
  {
   "cell_type": "code",
   "execution_count": 23,
   "metadata": {
    "colab": {
     "base_uri": "https://localhost:8080/"
    },
    "executionInfo": {
     "elapsed": 540,
     "status": "ok",
     "timestamp": 1648082686677,
     "user": {
      "displayName": "Jungi Kim",
      "photoUrl": "https://lh3.googleusercontent.com/a-/AOh14GiXo5s6ZHz3Kl3yMFyG1UmkGVl4Aa8w33ZzVWhe4w=s64",
      "userId": "13599710065611566056"
     },
     "user_tz": -540
    },
    "id": "TzUROEQQABHz",
    "outputId": "0c03081d-949f-468a-c517-4c2b32ab8125"
   },
   "outputs": [
    {
     "name": "stdout",
     "output_type": "stream",
     "text": [
      "전체 샘플의 개수 : 192341\n"
     ]
    }
   ],
   "source": [
    "df = pd.read_csv('./data/fra-eng/fra.txt', names=['src', 'tar', 'lic'], sep='\\t')\n",
    "del df['lic']\n",
    "print('전체 샘플의 개수 :',len(df))"
   ]
  },
  {
   "cell_type": "code",
   "execution_count": 24,
   "metadata": {
    "colab": {
     "base_uri": "https://localhost:8080/",
     "height": 363
    },
    "executionInfo": {
     "elapsed": 29,
     "status": "ok",
     "timestamp": 1648082686678,
     "user": {
      "displayName": "Jungi Kim",
      "photoUrl": "https://lh3.googleusercontent.com/a-/AOh14GiXo5s6ZHz3Kl3yMFyG1UmkGVl4Aa8w33ZzVWhe4w=s64",
      "userId": "13599710065611566056"
     },
     "user_tz": -540
    },
    "id": "m48KLzzJEG7L",
    "outputId": "49fffdef-67a7-4040-e7be-814390774583"
   },
   "outputs": [
    {
     "data": {
      "text/html": [
       "<div>\n",
       "<style scoped>\n",
       "    .dataframe tbody tr th:only-of-type {\n",
       "        vertical-align: middle;\n",
       "    }\n",
       "\n",
       "    .dataframe tbody tr th {\n",
       "        vertical-align: top;\n",
       "    }\n",
       "\n",
       "    .dataframe thead th {\n",
       "        text-align: right;\n",
       "    }\n",
       "</style>\n",
       "<table border=\"1\" class=\"dataframe\">\n",
       "  <thead>\n",
       "    <tr style=\"text-align: right;\">\n",
       "      <th></th>\n",
       "      <th>src</th>\n",
       "      <th>tar</th>\n",
       "    </tr>\n",
       "  </thead>\n",
       "  <tbody>\n",
       "    <tr>\n",
       "      <th>6682</th>\n",
       "      <td>Do you gamble?</td>\n",
       "      <td>Est-ce que vous jouez ?</td>\n",
       "    </tr>\n",
       "    <tr>\n",
       "      <th>41456</th>\n",
       "      <td>I don't get the joke.</td>\n",
       "      <td>Je n'ai pas compris la blague.</td>\n",
       "    </tr>\n",
       "    <tr>\n",
       "      <th>13093</th>\n",
       "      <td>Did he go there?</td>\n",
       "      <td>Est-il allé là ?</td>\n",
       "    </tr>\n",
       "    <tr>\n",
       "      <th>4883</th>\n",
       "      <td>I have a pen.</td>\n",
       "      <td>J’ai un stylo.</td>\n",
       "    </tr>\n",
       "    <tr>\n",
       "      <th>15542</th>\n",
       "      <td>There's no exit.</td>\n",
       "      <td>Il n'y a pas de sortie.</td>\n",
       "    </tr>\n",
       "    <tr>\n",
       "      <th>25418</th>\n",
       "      <td>That sounds right.</td>\n",
       "      <td>Ça semble coller.</td>\n",
       "    </tr>\n",
       "    <tr>\n",
       "      <th>33596</th>\n",
       "      <td>You've got a fever.</td>\n",
       "      <td>Vous avez de la fièvre.</td>\n",
       "    </tr>\n",
       "    <tr>\n",
       "      <th>10405</th>\n",
       "      <td>I like to talk.</td>\n",
       "      <td>J'aime discuter.</td>\n",
       "    </tr>\n",
       "    <tr>\n",
       "      <th>49371</th>\n",
       "      <td>I was quite surprised.</td>\n",
       "      <td>J'étais très surpris.</td>\n",
       "    </tr>\n",
       "    <tr>\n",
       "      <th>47677</th>\n",
       "      <td>He has too many books.</td>\n",
       "      <td>Il a trop de livres.</td>\n",
       "    </tr>\n",
       "  </tbody>\n",
       "</table>\n",
       "</div>"
      ],
      "text/plain": [
       "                          src                             tar\n",
       "6682           Do you gamble?         Est-ce que vous jouez ?\n",
       "41456   I don't get the joke.  Je n'ai pas compris la blague.\n",
       "13093        Did he go there?                Est-il allé là ?\n",
       "4883            I have a pen.                  J’ai un stylo.\n",
       "15542        There's no exit.         Il n'y a pas de sortie.\n",
       "25418      That sounds right.               Ça semble coller.\n",
       "33596     You've got a fever.         Vous avez de la fièvre.\n",
       "10405         I like to talk.                J'aime discuter.\n",
       "49371  I was quite surprised.           J'étais très surpris.\n",
       "47677  He has too many books.            Il a trop de livres."
      ]
     },
     "execution_count": 24,
     "metadata": {},
     "output_type": "execute_result"
    }
   ],
   "source": [
    "df = df[0:60000] # 6만개만 저장\n",
    "df.sample(10)"
   ]
  },
  {
   "cell_type": "code",
   "execution_count": 25,
   "metadata": {
    "colab": {
     "base_uri": "https://localhost:8080/",
     "height": 363
    },
    "executionInfo": {
     "elapsed": 24,
     "status": "ok",
     "timestamp": 1648082686680,
     "user": {
      "displayName": "Jungi Kim",
      "photoUrl": "https://lh3.googleusercontent.com/a-/AOh14GiXo5s6ZHz3Kl3yMFyG1UmkGVl4Aa8w33ZzVWhe4w=s64",
      "userId": "13599710065611566056"
     },
     "user_tz": -540
    },
    "id": "Y6iXivSHc9s1",
    "outputId": "6596ac42-31b5-4277-821d-01feaaee6174"
   },
   "outputs": [
    {
     "data": {
      "text/html": [
       "<div>\n",
       "<style scoped>\n",
       "    .dataframe tbody tr th:only-of-type {\n",
       "        vertical-align: middle;\n",
       "    }\n",
       "\n",
       "    .dataframe tbody tr th {\n",
       "        vertical-align: top;\n",
       "    }\n",
       "\n",
       "    .dataframe thead th {\n",
       "        text-align: right;\n",
       "    }\n",
       "</style>\n",
       "<table border=\"1\" class=\"dataframe\">\n",
       "  <thead>\n",
       "    <tr style=\"text-align: right;\">\n",
       "      <th></th>\n",
       "      <th>src</th>\n",
       "      <th>tar</th>\n",
       "    </tr>\n",
       "  </thead>\n",
       "  <tbody>\n",
       "    <tr>\n",
       "      <th>0</th>\n",
       "      <td>Go.</td>\n",
       "      <td>Va !</td>\n",
       "    </tr>\n",
       "    <tr>\n",
       "      <th>1</th>\n",
       "      <td>Go.</td>\n",
       "      <td>Marche.</td>\n",
       "    </tr>\n",
       "    <tr>\n",
       "      <th>2</th>\n",
       "      <td>Go.</td>\n",
       "      <td>Bouge !</td>\n",
       "    </tr>\n",
       "    <tr>\n",
       "      <th>3</th>\n",
       "      <td>Hi.</td>\n",
       "      <td>Salut !</td>\n",
       "    </tr>\n",
       "    <tr>\n",
       "      <th>4</th>\n",
       "      <td>Hi.</td>\n",
       "      <td>Salut.</td>\n",
       "    </tr>\n",
       "    <tr>\n",
       "      <th>5</th>\n",
       "      <td>Run!</td>\n",
       "      <td>Cours !</td>\n",
       "    </tr>\n",
       "    <tr>\n",
       "      <th>6</th>\n",
       "      <td>Run!</td>\n",
       "      <td>Courez !</td>\n",
       "    </tr>\n",
       "    <tr>\n",
       "      <th>7</th>\n",
       "      <td>Run!</td>\n",
       "      <td>Prenez vos jambes à vos cous !</td>\n",
       "    </tr>\n",
       "    <tr>\n",
       "      <th>8</th>\n",
       "      <td>Run!</td>\n",
       "      <td>File !</td>\n",
       "    </tr>\n",
       "    <tr>\n",
       "      <th>9</th>\n",
       "      <td>Run!</td>\n",
       "      <td>Filez !</td>\n",
       "    </tr>\n",
       "  </tbody>\n",
       "</table>\n",
       "</div>"
      ],
      "text/plain": [
       "    src                             tar\n",
       "0   Go.                            Va !\n",
       "1   Go.                         Marche.\n",
       "2   Go.                         Bouge !\n",
       "3   Hi.                         Salut !\n",
       "4   Hi.                          Salut.\n",
       "5  Run!                         Cours !\n",
       "6  Run!                        Courez !\n",
       "7  Run!  Prenez vos jambes à vos cous !\n",
       "8  Run!                          File !\n",
       "9  Run!                         Filez !"
      ]
     },
     "execution_count": 25,
     "metadata": {},
     "output_type": "execute_result"
    }
   ],
   "source": [
    "df.head(10)"
   ]
  },
  {
   "cell_type": "code",
   "execution_count": 26,
   "metadata": {
    "colab": {
     "base_uri": "https://localhost:8080/",
     "height": 206
    },
    "executionInfo": {
     "elapsed": 639,
     "status": "ok",
     "timestamp": 1648082687298,
     "user": {
      "displayName": "Jungi Kim",
      "photoUrl": "https://lh3.googleusercontent.com/a-/AOh14GiXo5s6ZHz3Kl3yMFyG1UmkGVl4Aa8w33ZzVWhe4w=s64",
      "userId": "13599710065611566056"
     },
     "user_tz": -540
    },
    "id": "hftZ2hPSdGEV",
    "outputId": "957b04ae-1e06-4b0b-bed1-0a5616af4e07"
   },
   "outputs": [
    {
     "data": {
      "text/html": [
       "<div>\n",
       "<style scoped>\n",
       "    .dataframe tbody tr th:only-of-type {\n",
       "        vertical-align: middle;\n",
       "    }\n",
       "\n",
       "    .dataframe tbody tr th {\n",
       "        vertical-align: top;\n",
       "    }\n",
       "\n",
       "    .dataframe thead th {\n",
       "        text-align: right;\n",
       "    }\n",
       "</style>\n",
       "<table border=\"1\" class=\"dataframe\">\n",
       "  <thead>\n",
       "    <tr style=\"text-align: right;\">\n",
       "      <th></th>\n",
       "      <th>src</th>\n",
       "      <th>tar</th>\n",
       "    </tr>\n",
       "  </thead>\n",
       "  <tbody>\n",
       "    <tr>\n",
       "      <th>59995</th>\n",
       "      <td>Why would they do that?</td>\n",
       "      <td>Pourquoi feraient-elles ça ?</td>\n",
       "    </tr>\n",
       "    <tr>\n",
       "      <th>59996</th>\n",
       "      <td>Why would you ask that?</td>\n",
       "      <td>Pourquoi demanderais-tu cela ?</td>\n",
       "    </tr>\n",
       "    <tr>\n",
       "      <th>59997</th>\n",
       "      <td>Why would you ask that?</td>\n",
       "      <td>Pourquoi demanderiez-vous cela ?</td>\n",
       "    </tr>\n",
       "    <tr>\n",
       "      <th>59998</th>\n",
       "      <td>Why would you say that?</td>\n",
       "      <td>Pourquoi dirais-tu cela ?</td>\n",
       "    </tr>\n",
       "    <tr>\n",
       "      <th>59999</th>\n",
       "      <td>Why would you say that?</td>\n",
       "      <td>Pourquoi diriez-vous cela ?</td>\n",
       "    </tr>\n",
       "  </tbody>\n",
       "</table>\n",
       "</div>"
      ],
      "text/plain": [
       "                           src                               tar\n",
       "59995  Why would they do that?      Pourquoi feraient-elles ça ?\n",
       "59996  Why would you ask that?    Pourquoi demanderais-tu cela ?\n",
       "59997  Why would you ask that?  Pourquoi demanderiez-vous cela ?\n",
       "59998  Why would you say that?         Pourquoi dirais-tu cela ?\n",
       "59999  Why would you say that?       Pourquoi diriez-vous cela ?"
      ]
     },
     "execution_count": 26,
     "metadata": {},
     "output_type": "execute_result"
    }
   ],
   "source": [
    "df.tail()"
   ]
  },
  {
   "cell_type": "markdown",
   "metadata": {
    "id": "jnUtyPRzFQPx"
   },
   "source": [
    "## 데이터 전처리"
   ]
  },
  {
   "cell_type": "code",
   "execution_count": 27,
   "metadata": {
    "colab": {
     "base_uri": "https://localhost:8080/",
     "height": 363
    },
    "executionInfo": {
     "elapsed": 29,
     "status": "ok",
     "timestamp": 1648082687306,
     "user": {
      "displayName": "Jungi Kim",
      "photoUrl": "https://lh3.googleusercontent.com/a-/AOh14GiXo5s6ZHz3Kl3yMFyG1UmkGVl4Aa8w33ZzVWhe4w=s64",
      "userId": "13599710065611566056"
     },
     "user_tz": -540
    },
    "id": "ev7HHhv1ERSs",
    "outputId": "1d03d03c-4218-473a-f18e-f3dd99761bb9"
   },
   "outputs": [
    {
     "data": {
      "text/html": [
       "<div>\n",
       "<style scoped>\n",
       "    .dataframe tbody tr th:only-of-type {\n",
       "        vertical-align: middle;\n",
       "    }\n",
       "\n",
       "    .dataframe tbody tr th {\n",
       "        vertical-align: top;\n",
       "    }\n",
       "\n",
       "    .dataframe thead th {\n",
       "        text-align: right;\n",
       "    }\n",
       "</style>\n",
       "<table border=\"1\" class=\"dataframe\">\n",
       "  <thead>\n",
       "    <tr style=\"text-align: right;\">\n",
       "      <th></th>\n",
       "      <th>src</th>\n",
       "      <th>tar</th>\n",
       "    </tr>\n",
       "  </thead>\n",
       "  <tbody>\n",
       "    <tr>\n",
       "      <th>13251</th>\n",
       "      <td>Drink something.</td>\n",
       "      <td>\\t Bois quelque chose. \\n</td>\n",
       "    </tr>\n",
       "    <tr>\n",
       "      <th>35456</th>\n",
       "      <td>I like it very much.</td>\n",
       "      <td>\\t J'aime ça à l'os. \\n</td>\n",
       "    </tr>\n",
       "    <tr>\n",
       "      <th>41201</th>\n",
       "      <td>Huskies are friendly.</td>\n",
       "      <td>\\t Les huskies sont sympathiques. \\n</td>\n",
       "    </tr>\n",
       "    <tr>\n",
       "      <th>12204</th>\n",
       "      <td>We all do that.</td>\n",
       "      <td>\\t Nous le faisons tous. \\n</td>\n",
       "    </tr>\n",
       "    <tr>\n",
       "      <th>52927</th>\n",
       "      <td>Why do we have dreams?</td>\n",
       "      <td>\\t Pourquoi rêvons-nous ? \\n</td>\n",
       "    </tr>\n",
       "    <tr>\n",
       "      <th>28448</th>\n",
       "      <td>He asked for money.</td>\n",
       "      <td>\\t Il a quémandé de l'argent. \\n</td>\n",
       "    </tr>\n",
       "    <tr>\n",
       "      <th>3171</th>\n",
       "      <td>I need more.</td>\n",
       "      <td>\\t Il m'en faut plus. \\n</td>\n",
       "    </tr>\n",
       "    <tr>\n",
       "      <th>3519</th>\n",
       "      <td>It's a fake.</td>\n",
       "      <td>\\t C'est une contrefaçon. \\n</td>\n",
       "    </tr>\n",
       "    <tr>\n",
       "      <th>23527</th>\n",
       "      <td>I have no savings.</td>\n",
       "      <td>\\t Je ne dispose pas d'économies. \\n</td>\n",
       "    </tr>\n",
       "    <tr>\n",
       "      <th>17200</th>\n",
       "      <td>Can you hurry up?</td>\n",
       "      <td>\\t Peux-tu te dépêcher ? \\n</td>\n",
       "    </tr>\n",
       "  </tbody>\n",
       "</table>\n",
       "</div>"
      ],
      "text/plain": [
       "                          src                                   tar\n",
       "13251        Drink something.             \\t Bois quelque chose. \\n\n",
       "35456    I like it very much.               \\t J'aime ça à l'os. \\n\n",
       "41201   Huskies are friendly.  \\t Les huskies sont sympathiques. \\n\n",
       "12204         We all do that.           \\t Nous le faisons tous. \\n\n",
       "52927  Why do we have dreams?          \\t Pourquoi rêvons-nous ? \\n\n",
       "28448     He asked for money.      \\t Il a quémandé de l'argent. \\n\n",
       "3171             I need more.              \\t Il m'en faut plus. \\n\n",
       "3519             It's a fake.          \\t C'est une contrefaçon. \\n\n",
       "23527      I have no savings.  \\t Je ne dispose pas d'économies. \\n\n",
       "17200       Can you hurry up?           \\t Peux-tu te dépêcher ? \\n"
      ]
     },
     "execution_count": 27,
     "metadata": {},
     "output_type": "execute_result"
    }
   ],
   "source": [
    "'''\n",
    "시작을 의미하는 심볼 '\\t'\n",
    "종료를 의미하는 심볼 '\\n'\n",
    "'''\n",
    "df.tar = df.tar.apply(lambda x : '\\t '+ x + ' \\n')\n",
    "df.sample(10)"
   ]
  },
  {
   "cell_type": "code",
   "execution_count": 28,
   "metadata": {
    "executionInfo": {
     "elapsed": 29,
     "status": "ok",
     "timestamp": 1648082687308,
     "user": {
      "displayName": "Jungi Kim",
      "photoUrl": "https://lh3.googleusercontent.com/a-/AOh14GiXo5s6ZHz3Kl3yMFyG1UmkGVl4Aa8w33ZzVWhe4w=s64",
      "userId": "13599710065611566056"
     },
     "user_tz": -540
    },
    "id": "pKBoDNjiFcBk"
   },
   "outputs": [],
   "source": [
    "# 문자 집합 구축\n",
    "src_vocab = set()\n",
    "for line in df.src: # 1줄씩 읽음\n",
    "    for char in line: # 1개의 문자씩 읽음\n",
    "        src_vocab.add(char)\n",
    "\n",
    "tar_vocab = set()\n",
    "for line in df.tar:\n",
    "    for char in line:\n",
    "        tar_vocab.add(char)"
   ]
  },
  {
   "cell_type": "code",
   "execution_count": 29,
   "metadata": {
    "colab": {
     "base_uri": "https://localhost:8080/"
    },
    "executionInfo": {
     "elapsed": 30,
     "status": "ok",
     "timestamp": 1648082687310,
     "user": {
      "displayName": "Jungi Kim",
      "photoUrl": "https://lh3.googleusercontent.com/a-/AOh14GiXo5s6ZHz3Kl3yMFyG1UmkGVl4Aa8w33ZzVWhe4w=s64",
      "userId": "13599710065611566056"
     },
     "user_tz": -540
    },
    "id": "spLopNlOFdff",
    "outputId": "30db8d26-4409-4fff-dcc7-b53996071c89"
   },
   "outputs": [
    {
     "name": "stdout",
     "output_type": "stream",
     "text": [
      "source 문장의 char 집합 : 79\n",
      "target 문장의 char 집합 : 104\n"
     ]
    }
   ],
   "source": [
    "src_vocab_size = len(src_vocab)\n",
    "tar_vocab_size = len(tar_vocab)\n",
    "print('source 문장의 char 집합 :',src_vocab_size)\n",
    "print('target 문장의 char 집합 :',tar_vocab_size)"
   ]
  },
  {
   "cell_type": "code",
   "execution_count": 30,
   "metadata": {
    "colab": {
     "base_uri": "https://localhost:8080/"
    },
    "executionInfo": {
     "elapsed": 460,
     "status": "ok",
     "timestamp": 1648082687745,
     "user": {
      "displayName": "Jungi Kim",
      "photoUrl": "https://lh3.googleusercontent.com/a-/AOh14GiXo5s6ZHz3Kl3yMFyG1UmkGVl4Aa8w33ZzVWhe4w=s64",
      "userId": "13599710065611566056"
     },
     "user_tz": -540
    },
    "id": "8b1kBWeHF3LZ",
    "outputId": "58531105-1b0f-459c-ce0b-dd3a118096a8"
   },
   "outputs": [
    {
     "name": "stdout",
     "output_type": "stream",
     "text": [
      "[' ', '!', '\"', '$', '%', '&', \"'\", ',', '-', '.', '/', '0', '1', '2', '3', '4', '5', '6', '7', '8', '9', ':', '?', 'A', 'B', 'C', 'D', 'E', 'F', 'G', 'H', 'I', 'J', 'K', 'L', 'M', 'N', 'O', 'P', 'Q', 'R', 'S', 'T', 'U', 'V', 'W', 'X', 'Y', 'Z', 'a', 'b', 'c', 'd', 'e', 'f', 'g', 'h', 'i', 'j', 'k', 'l', 'm', 'n', 'o', 'p', 'q', 'r', 's', 't', 'u', 'v', 'w', 'x', 'y', 'z', '°', 'é', '’', '€']\n",
      "['T', 'U', 'V', 'W', 'X', 'Y', 'Z', 'a', 'b', 'c', 'd', 'e', 'f', 'g', 'h', 'i', 'j', 'k', 'l', 'm', 'n', 'o', 'p', 'q', 'r', 's', 't', 'u', 'v', 'w']\n"
     ]
    }
   ],
   "source": [
    "src_vocab = sorted(list(src_vocab))\n",
    "tar_vocab = sorted(list(tar_vocab))\n",
    "print(src_vocab)\n",
    "print(tar_vocab[45:75])"
   ]
  },
  {
   "cell_type": "code",
   "execution_count": 31,
   "metadata": {
    "colab": {
     "base_uri": "https://localhost:8080/"
    },
    "executionInfo": {
     "elapsed": 16,
     "status": "ok",
     "timestamp": 1648082687747,
     "user": {
      "displayName": "Jungi Kim",
      "photoUrl": "https://lh3.googleusercontent.com/a-/AOh14GiXo5s6ZHz3Kl3yMFyG1UmkGVl4Aa8w33ZzVWhe4w=s64",
      "userId": "13599710065611566056"
     },
     "user_tz": -540
    },
    "id": "kH774UJgGeBq",
    "outputId": "46998f58-4987-4ce0-c33d-bae6304a92bc"
   },
   "outputs": [
    {
     "name": "stdout",
     "output_type": "stream",
     "text": [
      "{' ': 1, '!': 2, '\"': 3, '$': 4, '%': 5, '&': 6, \"'\": 7, ',': 8, '-': 9, '.': 10, '/': 11, '0': 12, '1': 13, '2': 14, '3': 15, '4': 16, '5': 17, '6': 18, '7': 19, '8': 20, '9': 21, ':': 22, '?': 23, 'A': 24, 'B': 25, 'C': 26, 'D': 27, 'E': 28, 'F': 29, 'G': 30, 'H': 31, 'I': 32, 'J': 33, 'K': 34, 'L': 35, 'M': 36, 'N': 37, 'O': 38, 'P': 39, 'Q': 40, 'R': 41, 'S': 42, 'T': 43, 'U': 44, 'V': 45, 'W': 46, 'X': 47, 'Y': 48, 'Z': 49, 'a': 50, 'b': 51, 'c': 52, 'd': 53, 'e': 54, 'f': 55, 'g': 56, 'h': 57, 'i': 58, 'j': 59, 'k': 60, 'l': 61, 'm': 62, 'n': 63, 'o': 64, 'p': 65, 'q': 66, 'r': 67, 's': 68, 't': 69, 'u': 70, 'v': 71, 'w': 72, 'x': 73, 'y': 74, 'z': 75, '°': 76, 'é': 77, '’': 78, '€': 79}\n",
      "{'\\t': 1, '\\n': 2, ' ': 3, '!': 4, '\"': 5, '$': 6, '%': 7, '&': 8, \"'\": 9, '(': 10, ')': 11, ',': 12, '-': 13, '.': 14, '0': 15, '1': 16, '2': 17, '3': 18, '4': 19, '5': 20, '6': 21, '7': 22, '8': 23, '9': 24, ':': 25, '?': 26, 'A': 27, 'B': 28, 'C': 29, 'D': 30, 'E': 31, 'F': 32, 'G': 33, 'H': 34, 'I': 35, 'J': 36, 'K': 37, 'L': 38, 'M': 39, 'N': 40, 'O': 41, 'P': 42, 'Q': 43, 'R': 44, 'S': 45, 'T': 46, 'U': 47, 'V': 48, 'W': 49, 'X': 50, 'Y': 51, 'Z': 52, 'a': 53, 'b': 54, 'c': 55, 'd': 56, 'e': 57, 'f': 58, 'g': 59, 'h': 60, 'i': 61, 'j': 62, 'k': 63, 'l': 64, 'm': 65, 'n': 66, 'o': 67, 'p': 68, 'q': 69, 'r': 70, 's': 71, 't': 72, 'u': 73, 'v': 74, 'w': 75, 'x': 76, 'y': 77, 'z': 78, '\\xa0': 79, '«': 80, '»': 81, 'À': 82, 'Ç': 83, 'É': 84, 'Ê': 85, 'Ô': 86, 'à': 87, 'â': 88, 'ç': 89, 'è': 90, 'é': 91, 'ê': 92, 'ë': 93, 'î': 94, 'ï': 95, 'ô': 96, 'ù': 97, 'û': 98, 'œ': 99, '\\u2009': 100, '\\u200b': 101, '‘': 102, '’': 103, '\\u202f': 104}\n"
     ]
    }
   ],
   "source": [
    "# 각 문자에 인덱스 부여\n",
    "src_to_index = dict([(char, i+1) for i, char in enumerate(src_vocab)])\n",
    "tar_to_index = dict([(char, i+1) for i, char in enumerate(tar_vocab)])\n",
    "print(src_to_index)\n",
    "print(tar_to_index)"
   ]
  },
  {
   "cell_type": "markdown",
   "metadata": {
    "id": "9MP3nMXnHPjz"
   },
   "source": [
    "### 데이터 정수 인코딩"
   ]
  },
  {
   "cell_type": "code",
   "execution_count": 32,
   "metadata": {
    "colab": {
     "base_uri": "https://localhost:8080/"
    },
    "executionInfo": {
     "elapsed": 12,
     "status": "ok",
     "timestamp": 1648082687748,
     "user": {
      "displayName": "Jungi Kim",
      "photoUrl": "https://lh3.googleusercontent.com/a-/AOh14GiXo5s6ZHz3Kl3yMFyG1UmkGVl4Aa8w33ZzVWhe4w=s64",
      "userId": "13599710065611566056"
     },
     "user_tz": -540
    },
    "id": "caAAWFxpGsjN",
    "outputId": "2e07dbf7-3af0-478d-82cc-afdb909ce0cd"
   },
   "outputs": [
    {
     "name": "stdout",
     "output_type": "stream",
     "text": [
      "source 문장의 정수 인코딩 : [[30, 64, 10], [30, 64, 10], [30, 64, 10], [31, 58, 10], [31, 58, 10]]\n"
     ]
    }
   ],
   "source": [
    "encoder_input = []\n",
    "\n",
    "# 1개의 문장\n",
    "for line in df.src:\n",
    "  encoded_line = []\n",
    "  # 각 줄에서 1개의 char\n",
    "  for char in line:\n",
    "    # 각 char을 정수로 변환\n",
    "    encoded_line.append(src_to_index[char])\n",
    "  encoder_input.append(encoded_line)\n",
    "\n",
    "print('source 문장의 정수 인코딩 :',encoder_input[:5])"
   ]
  },
  {
   "cell_type": "code",
   "execution_count": 33,
   "metadata": {
    "colab": {
     "base_uri": "https://localhost:8080/"
    },
    "executionInfo": {
     "elapsed": 323,
     "status": "ok",
     "timestamp": 1648082688063,
     "user": {
      "displayName": "Jungi Kim",
      "photoUrl": "https://lh3.googleusercontent.com/a-/AOh14GiXo5s6ZHz3Kl3yMFyG1UmkGVl4Aa8w33ZzVWhe4w=s64",
      "userId": "13599710065611566056"
     },
     "user_tz": -540
    },
    "id": "HaVwlUqFHJ6R",
    "outputId": "9bb5d455-1361-4bfa-d2e6-f74e54e14d99"
   },
   "outputs": [
    {
     "name": "stdout",
     "output_type": "stream",
     "text": [
      "target 문장의 정수 인코딩 : [[1, 3, 48, 53, 3, 4, 3, 2], [1, 3, 39, 53, 70, 55, 60, 57, 14, 3, 2], [1, 3, 28, 67, 73, 59, 57, 3, 4, 3, 2], [1, 3, 45, 53, 64, 73, 72, 3, 4, 3, 2], [1, 3, 45, 53, 64, 73, 72, 14, 3, 2]]\n"
     ]
    }
   ],
   "source": [
    "decoder_input = []\n",
    "\n",
    "for line in df.tar:\n",
    "  decoded_line = []\n",
    "  for char in line:\n",
    "    decoded_line.append(tar_to_index[char])\n",
    "  decoder_input.append(decoded_line)\n",
    "\n",
    "print('target 문장의 정수 인코딩 :',decoder_input[:5])"
   ]
  },
  {
   "cell_type": "code",
   "execution_count": 34,
   "metadata": {
    "colab": {
     "base_uri": "https://localhost:8080/"
    },
    "executionInfo": {
     "elapsed": 838,
     "status": "ok",
     "timestamp": 1648082688899,
     "user": {
      "displayName": "Jungi Kim",
      "photoUrl": "https://lh3.googleusercontent.com/a-/AOh14GiXo5s6ZHz3Kl3yMFyG1UmkGVl4Aa8w33ZzVWhe4w=s64",
      "userId": "13599710065611566056"
     },
     "user_tz": -540
    },
    "id": "X-ZGRT92HoUn",
    "outputId": "65218fca-df8c-4818-8a0a-c0a12e8ccaee"
   },
   "outputs": [
    {
     "name": "stdout",
     "output_type": "stream",
     "text": [
      "target 문장 레이블의 정수 인코딩 : [[3, 48, 53, 3, 4, 3, 2], [3, 39, 53, 70, 55, 60, 57, 14, 3, 2], [3, 28, 67, 73, 59, 57, 3, 4, 3, 2], [3, 45, 53, 64, 73, 72, 3, 4, 3, 2], [3, 45, 53, 64, 73, 72, 14, 3, 2]]\n"
     ]
    }
   ],
   "source": [
    "'''\n",
    "디코더의 예측값과 비교하기 위한 실제값은\n",
    "시작 심볼에 해당되는 <sos>가 있을 필요가 없다.\n",
    "\n",
    "따라서 정수 인코딩 과정에서 <sos>를 제거한다.\n",
    "'''\n",
    "decoder_target = []\n",
    "\n",
    "for line in df.tar:\n",
    "  timestep = 0\n",
    "  decoded_line = []\n",
    "  for char in line:\n",
    "    if timestep > 0:\n",
    "      decoded_line.append(tar_to_index[char])\n",
    "    timestep = timestep + 1\n",
    "  decoder_target.append(decoded_line)\n",
    "\n",
    "print('target 문장 레이블의 정수 인코딩 :',decoder_target[:5])"
   ]
  },
  {
   "cell_type": "markdown",
   "metadata": {
    "id": "mD9JCNI3H4AQ"
   },
   "source": [
    "### 데이터 패딩 처리"
   ]
  },
  {
   "cell_type": "code",
   "execution_count": 35,
   "metadata": {
    "colab": {
     "base_uri": "https://localhost:8080/"
    },
    "executionInfo": {
     "elapsed": 10,
     "status": "ok",
     "timestamp": 1648082688900,
     "user": {
      "displayName": "Jungi Kim",
      "photoUrl": "https://lh3.googleusercontent.com/a-/AOh14GiXo5s6ZHz3Kl3yMFyG1UmkGVl4Aa8w33ZzVWhe4w=s64",
      "userId": "13599710065611566056"
     },
     "user_tz": -540
    },
    "id": "DjoUNdBKH7u3",
    "outputId": "1952f1a7-159c-4e33-b212-68ed39dd6747"
   },
   "outputs": [
    {
     "name": "stdout",
     "output_type": "stream",
     "text": [
      "source 문장의 최대 길이 : 23\n",
      "target 문장의 최대 길이 : 76\n"
     ]
    }
   ],
   "source": [
    "max_src_len = max([len(line) for line in df.src])\n",
    "max_tar_len = max([len(line) for line in df.tar])\n",
    "print('source 문장의 최대 길이 :',max_src_len)\n",
    "print('target 문장의 최대 길이 :',max_tar_len)"
   ]
  },
  {
   "cell_type": "code",
   "execution_count": 36,
   "metadata": {
    "executionInfo": {
     "elapsed": 548,
     "status": "ok",
     "timestamp": 1648082689441,
     "user": {
      "displayName": "Jungi Kim",
      "photoUrl": "https://lh3.googleusercontent.com/a-/AOh14GiXo5s6ZHz3Kl3yMFyG1UmkGVl4Aa8w33ZzVWhe4w=s64",
      "userId": "13599710065611566056"
     },
     "user_tz": -540
    },
    "id": "iKu0QW9MIZSv"
   },
   "outputs": [],
   "source": [
    "encoder_input = pad_sequences(encoder_input, maxlen=max_src_len, padding='post')\n",
    "decoder_input = pad_sequences(decoder_input, maxlen=max_tar_len, padding='post')\n",
    "decoder_target = pad_sequences(decoder_target, maxlen=max_tar_len, padding='post')"
   ]
  },
  {
   "cell_type": "markdown",
   "metadata": {
    "id": "h8LK0EYnAMzA"
   },
   "source": [
    "### 데이터 원 핫 인코딩"
   ]
  },
  {
   "cell_type": "code",
   "execution_count": 37,
   "metadata": {
    "executionInfo": {
     "elapsed": 3599,
     "status": "ok",
     "timestamp": 1648082693038,
     "user": {
      "displayName": "Jungi Kim",
      "photoUrl": "https://lh3.googleusercontent.com/a-/AOh14GiXo5s6ZHz3Kl3yMFyG1UmkGVl4Aa8w33ZzVWhe4w=s64",
      "userId": "13599710065611566056"
     },
     "user_tz": -540
    },
    "id": "IvatUEI5FXas"
   },
   "outputs": [],
   "source": [
    "encoder_input = to_categorical(encoder_input)\n",
    "decoder_input = to_categorical(decoder_input)\n",
    "decoder_target = to_categorical(decoder_target)"
   ]
  },
  {
   "cell_type": "code",
   "execution_count": 38,
   "metadata": {
    "colab": {
     "base_uri": "https://localhost:8080/"
    },
    "executionInfo": {
     "elapsed": 32,
     "status": "ok",
     "timestamp": 1648082693039,
     "user": {
      "displayName": "Jungi Kim",
      "photoUrl": "https://lh3.googleusercontent.com/a-/AOh14GiXo5s6ZHz3Kl3yMFyG1UmkGVl4Aa8w33ZzVWhe4w=s64",
      "userId": "13599710065611566056"
     },
     "user_tz": -540
    },
    "id": "ROyLuRo03PE_",
    "outputId": "7a45ecfb-2a70-4330-a2c5-c657715cbf7d"
   },
   "outputs": [
    {
     "name": "stdout",
     "output_type": "stream",
     "text": [
      "(60000, 23, 80)\n",
      "(60000, 76, 105)\n",
      "(60000, 76, 105)\n"
     ]
    }
   ],
   "source": [
    "print(encoder_input.shape)\n",
    "print(decoder_input.shape)\n",
    "print(decoder_target.shape)"
   ]
  },
  {
   "cell_type": "markdown",
   "metadata": {
    "id": "lfVjdzTlJ6UT"
   },
   "source": [
    "## 모델 생성"
   ]
  },
  {
   "cell_type": "code",
   "execution_count": 39,
   "metadata": {
    "executionInfo": {
     "elapsed": 499,
     "status": "ok",
     "timestamp": 1648082693516,
     "user": {
      "displayName": "Jungi Kim",
      "photoUrl": "https://lh3.googleusercontent.com/a-/AOh14GiXo5s6ZHz3Kl3yMFyG1UmkGVl4Aa8w33ZzVWhe4w=s64",
      "userId": "13599710065611566056"
     },
     "user_tz": -540
    },
    "id": "5vQSCS5WKBTb"
   },
   "outputs": [],
   "source": [
    "encoder_inputs = Input(shape=(None, src_vocab_size+1))\n",
    "encoder_lstm = LSTM(units=256, return_state=True)\n",
    "\n",
    "# encoder_outputs은 여기서는 불필요\n",
    "encoder_outputs, state_h, state_c = encoder_lstm(encoder_inputs)\n",
    "\n",
    "# LSTM은 바닐라 RNN과는 달리 상태가 두 개. 은닉 상태와 셀 상태.\n",
    "encoder_states = [state_h, state_c]"
   ]
  },
  {
   "cell_type": "code",
   "execution_count": 40,
   "metadata": {
    "executionInfo": {
     "elapsed": 20,
     "status": "ok",
     "timestamp": 1648082693520,
     "user": {
      "displayName": "Jungi Kim",
      "photoUrl": "https://lh3.googleusercontent.com/a-/AOh14GiXo5s6ZHz3Kl3yMFyG1UmkGVl4Aa8w33ZzVWhe4w=s64",
      "userId": "13599710065611566056"
     },
     "user_tz": -540
    },
    "id": "pFbJSqFaKqdo"
   },
   "outputs": [],
   "source": [
    "decoder_inputs = Input(shape=(None, tar_vocab_size+1))\n",
    "decoder_lstm = LSTM(units=256, return_sequences=True, return_state=True)\n",
    "\n",
    "# 디코더에게 인코더의 은닉 상태, 셀 상태를 전달.\n",
    "decoder_outputs, _, _= decoder_lstm(decoder_inputs, initial_state=encoder_states)\n",
    "\n",
    "decoder_softmax_layer = Dense(tar_vocab_size+1, activation='softmax')\n",
    "decoder_outputs = decoder_softmax_layer(decoder_outputs)\n",
    "\n",
    "model = Model([encoder_inputs, decoder_inputs], decoder_outputs)"
   ]
  },
  {
   "cell_type": "code",
   "execution_count": 41,
   "metadata": {
    "colab": {
     "base_uri": "https://localhost:8080/"
    },
    "executionInfo": {
     "elapsed": 339,
     "status": "ok",
     "timestamp": 1648082693841,
     "user": {
      "displayName": "Jungi Kim",
      "photoUrl": "https://lh3.googleusercontent.com/a-/AOh14GiXo5s6ZHz3Kl3yMFyG1UmkGVl4Aa8w33ZzVWhe4w=s64",
      "userId": "13599710065611566056"
     },
     "user_tz": -540
    },
    "id": "MY45s3ZuPyBN",
    "outputId": "b7d22696-44a4-4d83-eb6c-3aa3e6a1d717"
   },
   "outputs": [
    {
     "name": "stdout",
     "output_type": "stream",
     "text": [
      "Model: \"model_1\"\n",
      "__________________________________________________________________________________________________\n",
      " Layer (type)                   Output Shape         Param #     Connected to                     \n",
      "==================================================================================================\n",
      " input_3 (InputLayer)           [(None, None, 80)]   0           []                               \n",
      "                                                                                                  \n",
      " input_4 (InputLayer)           [(None, None, 105)]  0           []                               \n",
      "                                                                                                  \n",
      " lstm_2 (LSTM)                  [(None, 256),        345088      ['input_3[0][0]']                \n",
      "                                 (None, 256),                                                     \n",
      "                                 (None, 256)]                                                     \n",
      "                                                                                                  \n",
      " lstm_3 (LSTM)                  [(None, None, 256),  370688      ['input_4[0][0]',                \n",
      "                                 (None, 256),                     'lstm_2[0][1]',                 \n",
      "                                 (None, 256)]                     'lstm_2[0][2]']                 \n",
      "                                                                                                  \n",
      " dense_1 (Dense)                (None, None, 105)    26985       ['lstm_3[0][0]']                 \n",
      "                                                                                                  \n",
      "==================================================================================================\n",
      "Total params: 742,761\n",
      "Trainable params: 742,761\n",
      "Non-trainable params: 0\n",
      "__________________________________________________________________________________________________\n"
     ]
    }
   ],
   "source": [
    "model.summary()"
   ]
  },
  {
   "cell_type": "code",
   "execution_count": 42,
   "metadata": {
    "colab": {
     "base_uri": "https://localhost:8080/",
     "height": 385
    },
    "executionInfo": {
     "elapsed": 14,
     "status": "ok",
     "timestamp": 1648082693844,
     "user": {
      "displayName": "Jungi Kim",
      "photoUrl": "https://lh3.googleusercontent.com/a-/AOh14GiXo5s6ZHz3Kl3yMFyG1UmkGVl4Aa8w33ZzVWhe4w=s64",
      "userId": "13599710065611566056"
     },
     "user_tz": -540
    },
    "id": "qexdCxc_TjxR",
    "outputId": "3145642d-be03-4670-d154-32f9f0d65e57"
   },
   "outputs": [
    {
     "data": {
      "image/svg+xml": [
       "<svg xmlns=\"http://www.w3.org/2000/svg\" xmlns:xlink=\"http://www.w3.org/1999/xlink\" width=\"569pt\" height=\"285pt\" viewBox=\"0.00 0.00 629.88 316.00\">\n",
       "<g id=\"graph0\" class=\"graph\" transform=\"scale(0.902778 0.902778) rotate(0) translate(4 312)\">\n",
       "<title>G</title>\n",
       "<polygon fill=\"white\" stroke=\"none\" points=\"-4,4 -4,-312 625.88,-312 625.88,4 -4,4\"/>\n",
       "<!-- 10978993344 -->\n",
       "<g id=\"node1\" class=\"node\">\n",
       "<title>10978993344</title>\n",
       "<polygon fill=\"none\" stroke=\"black\" points=\"47.25,-258.5 47.25,-307.5 298.5,-307.5 298.5,-258.5 47.25,-258.5\"/>\n",
       "<text text-anchor=\"middle\" x=\"85.25\" y=\"-290.2\" font-family=\"Times,serif\" font-size=\"14.00\">input_3</text>\n",
       "<polyline fill=\"none\" stroke=\"black\" points=\"47.25,-283 123.25,-283\"/>\n",
       "<text text-anchor=\"middle\" x=\"85.25\" y=\"-265.7\" font-family=\"Times,serif\" font-size=\"14.00\">InputLayer</text>\n",
       "<polyline fill=\"none\" stroke=\"black\" points=\"123.25,-258.5 123.25,-307.5\"/>\n",
       "<text text-anchor=\"middle\" x=\"150.38\" y=\"-290.2\" font-family=\"Times,serif\" font-size=\"14.00\">input:</text>\n",
       "<polyline fill=\"none\" stroke=\"black\" points=\"123.25,-283 177.5,-283\"/>\n",
       "<text text-anchor=\"middle\" x=\"150.38\" y=\"-265.7\" font-family=\"Times,serif\" font-size=\"14.00\">output:</text>\n",
       "<polyline fill=\"none\" stroke=\"black\" points=\"177.5,-258.5 177.5,-307.5\"/>\n",
       "<text text-anchor=\"middle\" x=\"238\" y=\"-290.2\" font-family=\"Times,serif\" font-size=\"14.00\">[(None, None, 80)]</text>\n",
       "<polyline fill=\"none\" stroke=\"black\" points=\"177.5,-283 298.5,-283\"/>\n",
       "<text text-anchor=\"middle\" x=\"238\" y=\"-265.7\" font-family=\"Times,serif\" font-size=\"14.00\">[(None, None, 80)]</text>\n",
       "</g>\n",
       "<!-- 10978993536 -->\n",
       "<g id=\"node3\" class=\"node\">\n",
       "<title>10978993536</title>\n",
       "<polygon fill=\"none\" stroke=\"black\" points=\"0,-172.5 0,-221.5 345.75,-221.5 345.75,-172.5 0,-172.5\"/>\n",
       "<text text-anchor=\"middle\" x=\"26.75\" y=\"-204.2\" font-family=\"Times,serif\" font-size=\"14.00\">lstm_2</text>\n",
       "<polyline fill=\"none\" stroke=\"black\" points=\"0,-197 53.5,-197\"/>\n",
       "<text text-anchor=\"middle\" x=\"26.75\" y=\"-179.7\" font-family=\"Times,serif\" font-size=\"14.00\">LSTM</text>\n",
       "<polyline fill=\"none\" stroke=\"black\" points=\"53.5,-172.5 53.5,-221.5\"/>\n",
       "<text text-anchor=\"middle\" x=\"80.62\" y=\"-204.2\" font-family=\"Times,serif\" font-size=\"14.00\">input:</text>\n",
       "<polyline fill=\"none\" stroke=\"black\" points=\"53.5,-197 107.75,-197\"/>\n",
       "<text text-anchor=\"middle\" x=\"80.62\" y=\"-179.7\" font-family=\"Times,serif\" font-size=\"14.00\">output:</text>\n",
       "<polyline fill=\"none\" stroke=\"black\" points=\"107.75,-172.5 107.75,-221.5\"/>\n",
       "<text text-anchor=\"middle\" x=\"226.75\" y=\"-204.2\" font-family=\"Times,serif\" font-size=\"14.00\">(None, None, 80)</text>\n",
       "<polyline fill=\"none\" stroke=\"black\" points=\"107.75,-197 345.75,-197\"/>\n",
       "<text text-anchor=\"middle\" x=\"226.75\" y=\"-179.7\" font-family=\"Times,serif\" font-size=\"14.00\">[(None, 256), (None, 256), (None, 256)]</text>\n",
       "</g>\n",
       "<!-- 10978993344&#45;&gt;10978993536 -->\n",
       "<g id=\"edge1\" class=\"edge\">\n",
       "<title>10978993344-&gt;10978993536</title>\n",
       "<path fill=\"none\" stroke=\"black\" d=\"M172.88,-258.15C172.88,-250.44 172.88,-241.71 172.88,-233.35\"/>\n",
       "<polygon fill=\"black\" stroke=\"black\" points=\"176.38,-233.42 172.88,-223.42 169.38,-233.42 176.38,-233.42\"/>\n",
       "</g>\n",
       "<!-- 10977018208 -->\n",
       "<g id=\"node2\" class=\"node\">\n",
       "<title>10977018208</title>\n",
       "<polygon fill=\"none\" stroke=\"black\" points=\"363.88,-172.5 363.88,-221.5 621.88,-221.5 621.88,-172.5 363.88,-172.5\"/>\n",
       "<text text-anchor=\"middle\" x=\"401.88\" y=\"-204.2\" font-family=\"Times,serif\" font-size=\"14.00\">input_4</text>\n",
       "<polyline fill=\"none\" stroke=\"black\" points=\"363.88,-197 439.88,-197\"/>\n",
       "<text text-anchor=\"middle\" x=\"401.88\" y=\"-179.7\" font-family=\"Times,serif\" font-size=\"14.00\">InputLayer</text>\n",
       "<polyline fill=\"none\" stroke=\"black\" points=\"439.88,-172.5 439.88,-221.5\"/>\n",
       "<text text-anchor=\"middle\" x=\"467\" y=\"-204.2\" font-family=\"Times,serif\" font-size=\"14.00\">input:</text>\n",
       "<polyline fill=\"none\" stroke=\"black\" points=\"439.88,-197 494.12,-197\"/>\n",
       "<text text-anchor=\"middle\" x=\"467\" y=\"-179.7\" font-family=\"Times,serif\" font-size=\"14.00\">output:</text>\n",
       "<polyline fill=\"none\" stroke=\"black\" points=\"494.12,-172.5 494.12,-221.5\"/>\n",
       "<text text-anchor=\"middle\" x=\"558\" y=\"-204.2\" font-family=\"Times,serif\" font-size=\"14.00\">[(None, None, 105)]</text>\n",
       "<polyline fill=\"none\" stroke=\"black\" points=\"494.12,-197 621.88,-197\"/>\n",
       "<text text-anchor=\"middle\" x=\"558\" y=\"-179.7\" font-family=\"Times,serif\" font-size=\"14.00\">[(None, None, 105)]</text>\n",
       "</g>\n",
       "<!-- 10977018448 -->\n",
       "<g id=\"node4\" class=\"node\">\n",
       "<title>10977018448</title>\n",
       "<polygon fill=\"none\" stroke=\"black\" points=\"141.62,-86.5 141.62,-135.5 524.12,-135.5 524.12,-86.5 141.62,-86.5\"/>\n",
       "<text text-anchor=\"middle\" x=\"168.38\" y=\"-118.2\" font-family=\"Times,serif\" font-size=\"14.00\">lstm_3</text>\n",
       "<polyline fill=\"none\" stroke=\"black\" points=\"141.62,-111 195.12,-111\"/>\n",
       "<text text-anchor=\"middle\" x=\"168.38\" y=\"-93.7\" font-family=\"Times,serif\" font-size=\"14.00\">LSTM</text>\n",
       "<polyline fill=\"none\" stroke=\"black\" points=\"195.12,-86.5 195.12,-135.5\"/>\n",
       "<text text-anchor=\"middle\" x=\"222.25\" y=\"-118.2\" font-family=\"Times,serif\" font-size=\"14.00\">input:</text>\n",
       "<polyline fill=\"none\" stroke=\"black\" points=\"195.12,-111 249.38,-111\"/>\n",
       "<text text-anchor=\"middle\" x=\"222.25\" y=\"-93.7\" font-family=\"Times,serif\" font-size=\"14.00\">output:</text>\n",
       "<polyline fill=\"none\" stroke=\"black\" points=\"249.38,-86.5 249.38,-135.5\"/>\n",
       "<text text-anchor=\"middle\" x=\"386.75\" y=\"-118.2\" font-family=\"Times,serif\" font-size=\"14.00\">[(None, None, 105), (None, 256), (None, 256)]</text>\n",
       "<polyline fill=\"none\" stroke=\"black\" points=\"249.38,-111 524.12,-111\"/>\n",
       "<text text-anchor=\"middle\" x=\"386.75\" y=\"-93.7\" font-family=\"Times,serif\" font-size=\"14.00\">[(None, None, 256), (None, 256), (None, 256)]</text>\n",
       "</g>\n",
       "<!-- 10977018208&#45;&gt;10977018448 -->\n",
       "<g id=\"edge2\" class=\"edge\">\n",
       "<title>10977018208-&gt;10977018448</title>\n",
       "<path fill=\"none\" stroke=\"black\" d=\"M447.45,-172.15C429.13,-162.53 407.81,-151.34 388.56,-141.23\"/>\n",
       "<polygon fill=\"black\" stroke=\"black\" points=\"390.23,-138.16 379.75,-136.61 386.98,-144.36 390.23,-138.16\"/>\n",
       "</g>\n",
       "<!-- 10978993536&#45;&gt;10977018448 -->\n",
       "<g id=\"edge3\" class=\"edge\">\n",
       "<title>10978993536-&gt;10977018448</title>\n",
       "<path fill=\"none\" stroke=\"black\" d=\"M218.3,-172.15C236.62,-162.53 257.94,-151.34 277.19,-141.23\"/>\n",
       "<polygon fill=\"black\" stroke=\"black\" points=\"278.77,-144.36 286,-136.61 275.52,-138.16 278.77,-144.36\"/>\n",
       "</g>\n",
       "<!-- 10977019552 -->\n",
       "<g id=\"node5\" class=\"node\">\n",
       "<title>10977019552</title>\n",
       "<polygon fill=\"none\" stroke=\"black\" points=\"216.25,-0.5 216.25,-49.5 449.5,-49.5 449.5,-0.5 216.25,-0.5\"/>\n",
       "<text text-anchor=\"middle\" x=\"246.38\" y=\"-32.2\" font-family=\"Times,serif\" font-size=\"14.00\">dense_1</text>\n",
       "<polyline fill=\"none\" stroke=\"black\" points=\"216.25,-25 276.5,-25\"/>\n",
       "<text text-anchor=\"middle\" x=\"246.38\" y=\"-7.7\" font-family=\"Times,serif\" font-size=\"14.00\">Dense</text>\n",
       "<polyline fill=\"none\" stroke=\"black\" points=\"276.5,-0.5 276.5,-49.5\"/>\n",
       "<text text-anchor=\"middle\" x=\"303.62\" y=\"-32.2\" font-family=\"Times,serif\" font-size=\"14.00\">input:</text>\n",
       "<polyline fill=\"none\" stroke=\"black\" points=\"276.5,-25 330.75,-25\"/>\n",
       "<text text-anchor=\"middle\" x=\"303.62\" y=\"-7.7\" font-family=\"Times,serif\" font-size=\"14.00\">output:</text>\n",
       "<polyline fill=\"none\" stroke=\"black\" points=\"330.75,-0.5 330.75,-49.5\"/>\n",
       "<text text-anchor=\"middle\" x=\"390.12\" y=\"-32.2\" font-family=\"Times,serif\" font-size=\"14.00\">(None, None, 256)</text>\n",
       "<polyline fill=\"none\" stroke=\"black\" points=\"330.75,-25 449.5,-25\"/>\n",
       "<text text-anchor=\"middle\" x=\"390.12\" y=\"-7.7\" font-family=\"Times,serif\" font-size=\"14.00\">(None, None, 105)</text>\n",
       "</g>\n",
       "<!-- 10977018448&#45;&gt;10977019552 -->\n",
       "<g id=\"edge4\" class=\"edge\">\n",
       "<title>10977018448-&gt;10977019552</title>\n",
       "<path fill=\"none\" stroke=\"black\" d=\"M332.88,-86.15C332.88,-78.44 332.88,-69.71 332.88,-61.35\"/>\n",
       "<polygon fill=\"black\" stroke=\"black\" points=\"336.38,-61.42 332.88,-51.42 329.38,-61.42 336.38,-61.42\"/>\n",
       "</g>\n",
       "</g>\n",
       "</svg>"
      ],
      "text/plain": [
       "<IPython.core.display.SVG object>"
      ]
     },
     "execution_count": 42,
     "metadata": {},
     "output_type": "execute_result"
    }
   ],
   "source": [
    "# %matplotlib inline\n",
    "\n",
    "SVG(model_to_dot(model, show_shapes=True, show_layer_names=True, dpi=65).create(prog='dot', format='svg'))"
   ]
  },
  {
   "cell_type": "code",
   "execution_count": 43,
   "metadata": {
    "executionInfo": {
     "elapsed": 368,
     "status": "ok",
     "timestamp": 1648082694202,
     "user": {
      "displayName": "Jungi Kim",
      "photoUrl": "https://lh3.googleusercontent.com/a-/AOh14GiXo5s6ZHz3Kl3yMFyG1UmkGVl4Aa8w33ZzVWhe4w=s64",
      "userId": "13599710065611566056"
     },
     "user_tz": -540
    },
    "id": "Ondz4zMgQAar"
   },
   "outputs": [],
   "source": [
    "model.compile(optimizer=\"rmsprop\", loss=\"categorical_crossentropy\",metrics=['acc'])"
   ]
  },
  {
   "cell_type": "code",
   "execution_count": 44,
   "metadata": {
    "colab": {
     "base_uri": "https://localhost:8080/"
    },
    "executionInfo": {
     "elapsed": 596820,
     "status": "ok",
     "timestamp": 1648083291016,
     "user": {
      "displayName": "Jungi Kim",
      "photoUrl": "https://lh3.googleusercontent.com/a-/AOh14GiXo5s6ZHz3Kl3yMFyG1UmkGVl4Aa8w33ZzVWhe4w=s64",
      "userId": "13599710065611566056"
     },
     "user_tz": -540
    },
    "id": "Clekk1BfKy-z",
    "outputId": "d877e960-bd56-4d9e-d9c2-6773c68276f8"
   },
   "outputs": [
    {
     "name": "stdout",
     "output_type": "stream",
     "text": [
      "Epoch 1/40\n",
      "750/750 [==============================] - 35s 42ms/step - loss: 0.7673 - acc: 0.7933 - val_loss: 0.6744 - val_acc: 0.8007\n",
      "Epoch 2/40\n",
      "750/750 [==============================] - 30s 40ms/step - loss: 0.4731 - acc: 0.8587 - val_loss: 0.5492 - val_acc: 0.8352\n",
      "Epoch 3/40\n",
      "750/750 [==============================] - 30s 41ms/step - loss: 0.3959 - acc: 0.8809 - val_loss: 0.4820 - val_acc: 0.8558\n",
      "Epoch 4/40\n",
      "750/750 [==============================] - 31s 41ms/step - loss: 0.3524 - acc: 0.8933 - val_loss: 0.4460 - val_acc: 0.8652\n",
      "Epoch 5/40\n",
      "750/750 [==============================] - 31s 41ms/step - loss: 0.3236 - acc: 0.9017 - val_loss: 0.4225 - val_acc: 0.8720\n",
      "Epoch 6/40\n",
      "750/750 [==============================] - 31s 41ms/step - loss: 0.3031 - acc: 0.9077 - val_loss: 0.4067 - val_acc: 0.8773\n",
      "Epoch 7/40\n",
      "750/750 [==============================] - 31s 41ms/step - loss: 0.2874 - acc: 0.9123 - val_loss: 0.3949 - val_acc: 0.8806\n",
      "Epoch 8/40\n",
      "750/750 [==============================] - 31s 42ms/step - loss: 0.2751 - acc: 0.9158 - val_loss: 0.3825 - val_acc: 0.8845\n",
      "Epoch 9/40\n",
      "750/750 [==============================] - 31s 41ms/step - loss: 0.2645 - acc: 0.9188 - val_loss: 0.3785 - val_acc: 0.8859\n",
      "Epoch 10/40\n",
      "750/750 [==============================] - 31s 42ms/step - loss: 0.2559 - acc: 0.9212 - val_loss: 0.3727 - val_acc: 0.8878\n",
      "Epoch 11/40\n",
      "750/750 [==============================] - 31s 42ms/step - loss: 0.2482 - acc: 0.9234 - val_loss: 0.3703 - val_acc: 0.8889\n",
      "Epoch 12/40\n",
      "750/750 [==============================] - 31s 42ms/step - loss: 0.2415 - acc: 0.9254 - val_loss: 0.3663 - val_acc: 0.8902\n",
      "Epoch 13/40\n",
      "750/750 [==============================] - 65s 87ms/step - loss: 0.2354 - acc: 0.9271 - val_loss: 0.3622 - val_acc: 0.8913\n",
      "Epoch 14/40\n",
      "750/750 [==============================] - 449s 600ms/step - loss: 0.2300 - acc: 0.9287 - val_loss: 0.3620 - val_acc: 0.8922\n",
      "Epoch 15/40\n",
      "750/750 [==============================] - 31s 42ms/step - loss: 0.2250 - acc: 0.9302 - val_loss: 0.3603 - val_acc: 0.8932\n",
      "Epoch 16/40\n",
      "750/750 [==============================] - 31s 42ms/step - loss: 0.2203 - acc: 0.9315 - val_loss: 0.3616 - val_acc: 0.8928\n",
      "Epoch 17/40\n",
      "750/750 [==============================] - 32s 42ms/step - loss: 0.2160 - acc: 0.9327 - val_loss: 0.3586 - val_acc: 0.8938\n",
      "Epoch 18/40\n",
      "750/750 [==============================] - 32s 42ms/step - loss: 0.2120 - acc: 0.9340 - val_loss: 0.3583 - val_acc: 0.8946\n",
      "Epoch 19/40\n",
      "750/750 [==============================] - 32s 42ms/step - loss: 0.2082 - acc: 0.9351 - val_loss: 0.3613 - val_acc: 0.8942\n",
      "Epoch 20/40\n",
      "750/750 [==============================] - 32s 43ms/step - loss: 0.2047 - acc: 0.9361 - val_loss: 0.3614 - val_acc: 0.8949\n",
      "Epoch 21/40\n",
      "750/750 [==============================] - 32s 42ms/step - loss: 0.2015 - acc: 0.9371 - val_loss: 0.3600 - val_acc: 0.8953\n",
      "Epoch 22/40\n",
      "750/750 [==============================] - 712s 951ms/step - loss: 0.1985 - acc: 0.9379 - val_loss: 0.3597 - val_acc: 0.8960\n",
      "Epoch 23/40\n",
      "750/750 [==============================] - 32s 43ms/step - loss: 0.1956 - acc: 0.9389 - val_loss: 0.3598 - val_acc: 0.8959\n",
      "Epoch 24/40\n",
      "750/750 [==============================] - 32s 42ms/step - loss: 0.1931 - acc: 0.9396 - val_loss: 0.3618 - val_acc: 0.8960\n",
      "Epoch 25/40\n",
      "750/750 [==============================] - 32s 43ms/step - loss: 0.1907 - acc: 0.9402 - val_loss: 0.3607 - val_acc: 0.8964\n",
      "Epoch 26/40\n",
      "750/750 [==============================] - 32s 42ms/step - loss: 0.1879 - acc: 0.9410 - val_loss: 0.3640 - val_acc: 0.8960\n",
      "Epoch 27/40\n",
      "750/750 [==============================] - 32s 43ms/step - loss: 0.1856 - acc: 0.9418 - val_loss: 0.3685 - val_acc: 0.8955\n",
      "Epoch 28/40\n",
      "750/750 [==============================] - 32s 43ms/step - loss: 0.1834 - acc: 0.9425 - val_loss: 0.3698 - val_acc: 0.8959\n",
      "Epoch 29/40\n",
      "750/750 [==============================] - 32s 43ms/step - loss: 0.1811 - acc: 0.9431 - val_loss: 0.3693 - val_acc: 0.8960\n",
      "Epoch 30/40\n",
      "750/750 [==============================] - 1134s 2s/step - loss: 0.1790 - acc: 0.9437 - val_loss: 0.3718 - val_acc: 0.8957\n",
      "Epoch 31/40\n",
      "750/750 [==============================] - 32s 42ms/step - loss: 0.1770 - acc: 0.9443 - val_loss: 0.3735 - val_acc: 0.8961\n",
      "Epoch 32/40\n",
      "750/750 [==============================] - 33s 44ms/step - loss: 0.1752 - acc: 0.9448 - val_loss: 0.3731 - val_acc: 0.8962\n",
      "Epoch 33/40\n",
      "750/750 [==============================] - 32s 43ms/step - loss: 0.1734 - acc: 0.9453 - val_loss: 0.3733 - val_acc: 0.8965\n",
      "Epoch 34/40\n",
      "750/750 [==============================] - 33s 44ms/step - loss: 0.1717 - acc: 0.9458 - val_loss: 0.3777 - val_acc: 0.8960\n",
      "Epoch 35/40\n",
      "750/750 [==============================] - 33s 44ms/step - loss: 0.1701 - acc: 0.9464 - val_loss: 0.3775 - val_acc: 0.8960\n",
      "Epoch 36/40\n",
      "750/750 [==============================] - 33s 43ms/step - loss: 0.1685 - acc: 0.9468 - val_loss: 0.3786 - val_acc: 0.8963\n",
      "Epoch 37/40\n",
      "750/750 [==============================] - 33s 44ms/step - loss: 0.1669 - acc: 0.9473 - val_loss: 0.3811 - val_acc: 0.8962\n",
      "Epoch 38/40\n",
      "750/750 [==============================] - 33s 44ms/step - loss: 0.1654 - acc: 0.9477 - val_loss: 0.3821 - val_acc: 0.8961\n",
      "Epoch 39/40\n",
      "750/750 [==============================] - 34s 45ms/step - loss: 0.1639 - acc: 0.9481 - val_loss: 0.3878 - val_acc: 0.8956\n",
      "Epoch 40/40\n",
      "750/750 [==============================] - 34s 46ms/step - loss: 0.1627 - acc: 0.9486 - val_loss: 0.3880 - val_acc: 0.8954\n"
     ]
    },
    {
     "data": {
      "text/plain": [
       "<keras.callbacks.History at 0x299abbd90>"
      ]
     },
     "execution_count": 44,
     "metadata": {},
     "output_type": "execute_result"
    }
   ],
   "source": [
    "model.fit(x=[encoder_input, decoder_input], y=decoder_target, batch_size=64, epochs=40, validation_split=0.2)"
   ]
  },
  {
   "cell_type": "markdown",
   "metadata": {
    "id": "ddkDappVc1pn"
   },
   "source": [
    "## 모델 테스트"
   ]
  },
  {
   "cell_type": "code",
   "execution_count": 45,
   "metadata": {
    "executionInfo": {
     "elapsed": 30,
     "status": "ok",
     "timestamp": 1648083291018,
     "user": {
      "displayName": "Jungi Kim",
      "photoUrl": "https://lh3.googleusercontent.com/a-/AOh14GiXo5s6ZHz3Kl3yMFyG1UmkGVl4Aa8w33ZzVWhe4w=s64",
      "userId": "13599710065611566056"
     },
     "user_tz": -540
    },
    "id": "14SxLxeIczcs"
   },
   "outputs": [],
   "source": [
    "encoder_model = Model(inputs=encoder_inputs, outputs=encoder_states)"
   ]
  },
  {
   "cell_type": "code",
   "execution_count": 46,
   "metadata": {
    "executionInfo": {
     "elapsed": 31343,
     "status": "ok",
     "timestamp": 1648083322349,
     "user": {
      "displayName": "Jungi Kim",
      "photoUrl": "https://lh3.googleusercontent.com/a-/AOh14GiXo5s6ZHz3Kl3yMFyG1UmkGVl4Aa8w33ZzVWhe4w=s64",
      "userId": "13599710065611566056"
     },
     "user_tz": -540
    },
    "id": "XNH8VwvNdOQD"
   },
   "outputs": [],
   "source": [
    "# 이전 시점의 상태들을 저장하는 텐서\n",
    "decoder_state_input_h = Input(shape=(256,))\n",
    "decoder_state_input_c = Input(shape=(256,))\n",
    "decoder_states_inputs = [decoder_state_input_h, decoder_state_input_c]\n",
    "\n",
    "# 문장의 다음 단어를 예측하기 위해서 초기 상태(initial_state)를 이전 시점의 상태로 사용.\n",
    "# 뒤의 함수 decode_sequence()에 동작을 구현 예정\n",
    "decoder_outputs, state_h, state_c = decoder_lstm(decoder_inputs, initial_state=decoder_states_inputs)\n",
    "\n",
    "# 훈련 과정에서와 달리 LSTM의 리턴하는 은닉 상태와 셀 상태를 버리지 않음.\n",
    "decoder_states = [state_h, state_c]\n",
    "decoder_outputs = decoder_softmax_layer(decoder_outputs)\n",
    "decoder_model = Model(inputs=[decoder_inputs] + decoder_states_inputs, outputs=[decoder_outputs] + decoder_states)"
   ]
  },
  {
   "cell_type": "code",
   "execution_count": 47,
   "metadata": {
    "executionInfo": {
     "elapsed": 30,
     "status": "ok",
     "timestamp": 1648083322351,
     "user": {
      "displayName": "Jungi Kim",
      "photoUrl": "https://lh3.googleusercontent.com/a-/AOh14GiXo5s6ZHz3Kl3yMFyG1UmkGVl4Aa8w33ZzVWhe4w=s64",
      "userId": "13599710065611566056"
     },
     "user_tz": -540
    },
    "id": "fjYXi7VDdQc8"
   },
   "outputs": [],
   "source": [
    "'''\n",
    "단어로부터 인덱스를 얻는 것이 아닌\n",
    "인덱스로부터 단어를 얻을 수 있는 index_to_src와 index_to_tar\n",
    "'''\n",
    "index_to_src = dict((i, char) for char, i in src_to_index.items())\n",
    "index_to_tar = dict((i, char) for char, i in tar_to_index.items())"
   ]
  },
  {
   "cell_type": "code",
   "execution_count": 58,
   "metadata": {
    "executionInfo": {
     "elapsed": 31,
     "status": "ok",
     "timestamp": 1648083322353,
     "user": {
      "displayName": "Jungi Kim",
      "photoUrl": "https://lh3.googleusercontent.com/a-/AOh14GiXo5s6ZHz3Kl3yMFyG1UmkGVl4Aa8w33ZzVWhe4w=s64",
      "userId": "13599710065611566056"
     },
     "user_tz": -540
    },
    "id": "RjAcNDAmdTOk"
   },
   "outputs": [],
   "source": [
    "def decode_sequence(input_seq):\n",
    "  # 입력으로부터 인코더의 상태를 얻음\n",
    "  states_value = encoder_model.predict(input_seq)\n",
    "\n",
    "  # <SOS>에 해당하는 원-핫 벡터 생성\n",
    "  target_seq = np.zeros((1, 1, tar_vocab_size+1))\n",
    "  target_seq[0, 0, tar_to_index['\\t']] = 1.\n",
    "\n",
    "  stop_condition = False\n",
    "  decoded_sentence = \"\"\n",
    "\n",
    "  # stop_condition이 True가 될 때까지 루프 반복\n",
    "  while not stop_condition:\n",
    "    # 이점 시점의 상태 states_value를 현 시점의 초기 상태로 사용\n",
    "    output_tokens, h, c = decoder_model.predict([target_seq] + states_value, verbose=0)\n",
    "\n",
    "    # 예측 결과를 문자로 변환\n",
    "    sampled_token_index = np.argmax(output_tokens[0, -1, :])\n",
    "    sampled_char = index_to_tar[sampled_token_index]\n",
    "\n",
    "    # 현재 시점의 예측 문자를 예측 문장에 추가\n",
    "    decoded_sentence += sampled_char\n",
    "\n",
    "    # <eos>에 도달하거나 최대 길이를 넘으면 중단.\n",
    "    if (sampled_char == '\\n' or\n",
    "        len(decoded_sentence) > max_tar_len):\n",
    "        stop_condition = True\n",
    "\n",
    "    # 현재 시점의 예측 결과를 다음 시점의 입력으로 사용하기 위해 저장\n",
    "    target_seq = np.zeros((1, 1, tar_vocab_size+1))\n",
    "    target_seq[0, 0, sampled_token_index] = 1.\n",
    "\n",
    "    # 현재 시점의 상태를 다음 시점의 상태로 사용하기 위해 저장\n",
    "    states_value = [h, c]\n",
    "\n",
    "  return decoded_sentence"
   ]
  },
  {
   "cell_type": "code",
   "execution_count": 60,
   "metadata": {
    "colab": {
     "base_uri": "https://localhost:8080/"
    },
    "executionInfo": {
     "elapsed": 8002,
     "status": "ok",
     "timestamp": 1648083330325,
     "user": {
      "displayName": "Jungi Kim",
      "photoUrl": "https://lh3.googleusercontent.com/a-/AOh14GiXo5s6ZHz3Kl3yMFyG1UmkGVl4Aa8w33ZzVWhe4w=s64",
      "userId": "13599710065611566056"
     },
     "user_tz": -540
    },
    "id": "fws93-mvdq0G",
    "outputId": "719cacf7-e84c-45e9-87b7-617180141891"
   },
   "outputs": [
    {
     "name": "stdout",
     "output_type": "stream",
     "text": [
      "1/1 [==============================] - 0s 16ms/step\n",
      "입력 문장: Hi.\n",
      "정답 문장: Salut ! \n",
      "번역 문장: Salut. \n",
      "1/1 [==============================] - 0s 8ms/step\n",
      "입력 문장: I see.\n",
      "정답 문장: Aha. \n",
      "번역 문장: Je vois une bière. \n",
      "1/1 [==============================] - 0s 8ms/step\n",
      "입력 문장: Hug me.\n",
      "정답 문장: Serrez-moi dans vos bras ! \n",
      "번역 문장: Serrez-moi ! \n",
      "1/1 [==============================] - 0s 8ms/step\n",
      "입력 문장: Help me.\n",
      "정답 문장: Aidez-moi. \n",
      "번역 문장: Aidez-moi. \n",
      "1/1 [==============================] - 0s 8ms/step\n",
      "입력 문장: I am sure.\n",
      "정답 문장: Je suis sûr. \n",
      "번역 문장: Je suis patient. \n"
     ]
    }
   ],
   "source": [
    "for seq_index in [3,50,100,300,1001]: # 입력 문장의 인덱스\n",
    "  input_seq = encoder_input[seq_index:seq_index+1]\n",
    "  decoded_sentence = decode_sequence(input_seq)\n",
    "\n",
    "  print('입력 문장:', df.src[seq_index])\n",
    "  print('정답 문장:', df.tar[seq_index][2:len(df.tar[seq_index])-1]) # '\\t'와 '\\n'을 빼고 출력\n",
    "  print('번역 문장:', decoded_sentence[1:len(decoded_sentence)-1]) # '\\n'을 빼고 출력"
   ]
  }
 ],
 "metadata": {
  "accelerator": "GPU",
  "colab": {
   "authorship_tag": "ABX9TyO4jNO3vkKtnu+5unPMnJ1g",
   "collapsed_sections": [],
   "mount_file_id": "1_4goWfqK0LSbp6fk5nGrlNdYp9bL42YV",
   "name": "seq2seq.ipynb",
   "provenance": []
  },
  "kernelspec": {
   "display_name": "Python 3 (ipykernel)",
   "language": "python",
   "name": "python3"
  },
  "language_info": {
   "codemirror_mode": {
    "name": "ipython",
    "version": 3
   },
   "file_extension": ".py",
   "mimetype": "text/x-python",
   "name": "python",
   "nbconvert_exporter": "python",
   "pygments_lexer": "ipython3",
   "version": "3.8.16"
  }
 },
 "nbformat": 4,
 "nbformat_minor": 1
}
